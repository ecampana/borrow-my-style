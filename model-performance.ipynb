{
 "cells": [
  {
   "cell_type": "markdown",
   "metadata": {},
   "source": [
    "# Evaluating Model Performance\n",
    "\n",
    "**Notebook by: Emmanuel Contreras-Campana, Ph.D.**\n",
    "\n",
    "In this notebook, we center our attention to evaluating our various models in a more systematic fashion. An important idea to keep in mind is choosing a model that furthers the companies objective. We would like to help lenders understand which fashion items they should make available to others. \n",
    "\n",
    "Two metrics worth considering are Precision and Recall. The higher the precision the lower the number of false positives (i.e. classes of no interest but were predicted to be of interest). While the higher the recall the smaller the chances an item of interest is predicted to be of no interest.\n",
    "\n",
    "We prefer the recall value to be as high as possible for the high and moderate performing inventory because we would like to find as many of them as possible. Those are the fashion items that have the potential to bring in more revenue for both the lender and client company. Unfortunately, the higher the recall the lower the precision will be. For our case, we do not necessarily need precision to be all that high for the high and moderate performing inventory. The consequences of this will mean having more unwanted fashion items in the peer-2-peer rental community but the company will not actuallly incur any monetary loss only potential loss."
   ]
  },
  {
   "cell_type": "markdown",
   "metadata": {},
   "source": [
    "## Load Libraries"
   ]
  },
  {
   "cell_type": "code",
   "execution_count": 2,
   "metadata": {},
   "outputs": [],
   "source": [
    "# Import common python library\n",
    "from collections import OrderedDict\n",
    "\n",
    "# Import numpy library\n",
    "import numpy as np\n",
    "\n",
    "# Import matplotlib library\n",
    "import matplotlib.pyplot as plt\n",
    "\n",
    "#from matplotlib.pyplot import *\n",
    "from matplotlib import colors\n",
    "\n",
    "# Import pandas library\n",
    "import pandas as pd\n",
    "\n",
    "# Import scikit-learn library\n",
    "from sklearn.externals import joblib\n",
    "\n",
    "from sklearn.dummy import DummyClassifier\n",
    "\n",
    "from sklearn.linear_model import LogisticRegression\n",
    "\n",
    "from sklearn.ensemble import GradientBoostingClassifier\n",
    "from sklearn.ensemble import RandomForestClassifier\n",
    "\n",
    "from sklearn.neighbors import KNeighborsClassifier\n",
    "\n",
    "from sklearn.svm import SVC\n",
    "\n",
    "from sklearn.metrics import precision_recall_curve\n",
    "\n",
    "# Import imbalance-learn library\n",
    "from imblearn.pipeline import make_pipeline\n",
    "\n",
    "from imblearn.over_sampling import RandomOverSampler\n",
    "\n",
    "# Import user created library\n",
    "from dskit import *\n",
    "\n",
    "% matplotlib inline"
   ]
  },
  {
   "cell_type": "markdown",
   "metadata": {},
   "source": [
    "## Load Data\n",
    "\n",
    "We load the models and datasets produced in previous stages."
   ]
  },
  {
   "cell_type": "code",
   "execution_count": 3,
   "metadata": {
    "collapsed": true
   },
   "outputs": [],
   "source": [
    "# Load models\n",
    "\n",
    "dc = joblib.load('models/DummyClassifier.pkl')\n",
    "log = joblib.load('models/LogisticRegression.pkl')\n",
    "gbc = joblib.load('models/GradientBoostingClassifier.pkl')\n",
    "rfc = joblib.load('models/RandomForestClassifier.pkl')\n",
    "knn = joblib.load('models/KNeighborsClassifier.pkl')\n",
    "svm = joblib.load('models/SVC.pkl')"
   ]
  },
  {
   "cell_type": "code",
   "execution_count": 4,
   "metadata": {
    "collapsed": true
   },
   "outputs": [],
   "source": [
    "# load features\n",
    "X_train = pd.read_csv(filepath_or_buffer='data/X_train.csv', sep=',',\n",
    "                      header='infer', index_col=0)\n",
    "\n",
    "X_test = pd.read_csv(filepath_or_buffer='data/X_test.csv', sep=',',\n",
    "                      header='infer', index_col=0)\n",
    "\n",
    "# load targets\n",
    "y_train = pd.read_csv(filepath_or_buffer='data/y_train.csv', sep=',',\n",
    "                      header='infer', index_col=0, \n",
    "                      dtype={'rental_category': 'int'})['rental_category']\n",
    "\n",
    "y_test = pd.read_csv(filepath_or_buffer='data/y_test.csv', sep=',',\n",
    "                     header='infer', index_col=0, \n",
    "                     dtype={'rental_category': 'int'})['rental_category']"
   ]
  },
  {
   "cell_type": "markdown",
   "metadata": {},
   "source": [
    "## Cross-Validated Precision vs Recall\n",
    "\n",
    "Using the cross-validated precision and recall values estimated in the previous stage we can see how the models compare to each other individually for each class label."
   ]
  },
  {
   "cell_type": "markdown",
   "metadata": {},
   "source": [
    "### Low Performing Inventory"
   ]
  },
  {
   "cell_type": "code",
   "execution_count": 5,
   "metadata": {},
   "outputs": [
    {
     "data": {
      "text/html": [
       "<div>\n",
       "<style scoped>\n",
       "    .dataframe tbody tr th:only-of-type {\n",
       "        vertical-align: middle;\n",
       "    }\n",
       "\n",
       "    .dataframe tbody tr th {\n",
       "        vertical-align: top;\n",
       "    }\n",
       "\n",
       "    .dataframe thead th {\n",
       "        text-align: right;\n",
       "    }\n",
       "</style>\n",
       "<table border=\"1\" class=\"dataframe\">\n",
       "  <thead>\n",
       "    <tr style=\"text-align: right;\">\n",
       "      <th></th>\n",
       "      <th>Precision</th>\n",
       "      <th>Recall</th>\n",
       "    </tr>\n",
       "  </thead>\n",
       "  <tbody>\n",
       "    <tr>\n",
       "      <th>Dummy Classifier</th>\n",
       "      <td>84.196547</td>\n",
       "      <td>83.421053</td>\n",
       "    </tr>\n",
       "    <tr>\n",
       "      <th>Gradient Boosting</th>\n",
       "      <td>87.303023</td>\n",
       "      <td>78.884306</td>\n",
       "    </tr>\n",
       "    <tr>\n",
       "      <th>Random Forest</th>\n",
       "      <td>88.455019</td>\n",
       "      <td>72.500491</td>\n",
       "    </tr>\n",
       "    <tr>\n",
       "      <th>Logistic Regression</th>\n",
       "      <td>89.019844</td>\n",
       "      <td>54.881163</td>\n",
       "    </tr>\n",
       "    <tr>\n",
       "      <th>K-Neighbors</th>\n",
       "      <td>89.732221</td>\n",
       "      <td>42.427814</td>\n",
       "    </tr>\n",
       "    <tr>\n",
       "      <th>Support Vector Machine</th>\n",
       "      <td>89.167722</td>\n",
       "      <td>45.983107</td>\n",
       "    </tr>\n",
       "  </tbody>\n",
       "</table>\n",
       "</div>"
      ],
      "text/plain": [
       "                        Precision     Recall\n",
       "Dummy Classifier        84.196547  83.421053\n",
       "Gradient Boosting       87.303023  78.884306\n",
       "Random Forest           88.455019  72.500491\n",
       "Logistic Regression     89.019844  54.881163\n",
       "K-Neighbors             89.732221  42.427814\n",
       "Support Vector Machine  89.167722  45.983107"
      ]
     },
     "metadata": {},
     "output_type": "display_data"
    },
    {
     "data": {
      "image/png": "[encoded data removed]",
      "text/plain": [
       "<matplotlib.figure.Figure at 0x104406390>"
      ]
     },
     "metadata": {},
     "output_type": "display_data"
    }
   ],
   "source": [
    "# Low Performing\n",
    "\n",
    "ml = OrderedDict()\n",
    "\n",
    "ml['Dummy Classifier']       = [0.84196547*100, 0.83421053*100]\n",
    "ml['Gradient Boosting']      = [0.87303023*100, 0.78884306*100]\n",
    "ml['Random Forest']          = [0.88455019*100, 0.72500491*100]\n",
    "ml['Logistic Regression']    = [0.89019844*100, 0.54881163*100]\n",
    "ml['K-Neighbors']            = [0.89732221*100, 0.42427814*100]\n",
    "ml['Support Vector Machine'] = [0.89167722*100, 0.45983107*100]\n",
    "\n",
    "\n",
    "precision_recall = pd.DataFrame(data=list(ml.values()), \n",
    "                                index=ml.keys(),\n",
    "                                columns=['Precision', 'Recall'])\n",
    "\n",
    "fig, ax = plt.subplots()\n",
    "\n",
    "colorlist = ['steelblue', 'navy', 'green', 'darkorange', 'purple', 'teal']\n",
    "\n",
    "for i, l in enumerate(ml):\n",
    "    precision_recall.iloc[[i]].plot(x='Recall', y='Precision', kind='scatter',\n",
    "                                    figsize=(8, 6), ax=ax, s=90, label=l,\n",
    "                                    color=colorlist[i], grid=True\n",
    "                                   )\n",
    "\n",
    "\n",
    "plt.title('Low Performing Inventory', fontsize=18)\n",
    "\n",
    "plt.xlabel('Recall (%)', fontsize=16)\n",
    "plt.ylabel('Precision (%)', fontsize=16)\n",
    "\n",
    "plt.legend(prop={'size': 11.5})\n",
    "\n",
    "display(precision_recall)"
   ]
  },
  {
   "cell_type": "markdown",
   "metadata": {},
   "source": [
    "In the above plot, random forest and gradient boosting decision trees peform the best but we do not care to model the low performing inventory as best we can. It is better to chose a machine learning algorithm the performance better for high and moderate performing inventory."
   ]
  },
  {
   "cell_type": "markdown",
   "metadata": {},
   "source": [
    "### Moderate Performing Inventory"
   ]
  },
  {
   "cell_type": "code",
   "execution_count": 6,
   "metadata": {},
   "outputs": [
    {
     "data": {
      "text/html": [
       "<div>\n",
       "<style scoped>\n",
       "    .dataframe tbody tr th:only-of-type {\n",
       "        vertical-align: middle;\n",
       "    }\n",
       "\n",
       "    .dataframe tbody tr th {\n",
       "        vertical-align: top;\n",
       "    }\n",
       "\n",
       "    .dataframe thead th {\n",
       "        text-align: right;\n",
       "    }\n",
       "</style>\n",
       "<table border=\"1\" class=\"dataframe\">\n",
       "  <thead>\n",
       "    <tr style=\"text-align: right;\">\n",
       "      <th></th>\n",
       "      <th>Precision</th>\n",
       "      <th>Recall</th>\n",
       "    </tr>\n",
       "  </thead>\n",
       "  <tbody>\n",
       "    <tr>\n",
       "      <th>Dummy Classifier</th>\n",
       "      <td>7.792208</td>\n",
       "      <td>8.823529</td>\n",
       "    </tr>\n",
       "    <tr>\n",
       "      <th>Gradient Boosting</th>\n",
       "      <td>12.318290</td>\n",
       "      <td>23.290598</td>\n",
       "    </tr>\n",
       "    <tr>\n",
       "      <th>Random Forest</th>\n",
       "      <td>14.509166</td>\n",
       "      <td>36.324786</td>\n",
       "    </tr>\n",
       "    <tr>\n",
       "      <th>Logistic Regression</th>\n",
       "      <td>12.350660</td>\n",
       "      <td>40.811966</td>\n",
       "    </tr>\n",
       "    <tr>\n",
       "      <th>K-Neighbors</th>\n",
       "      <td>10.427687</td>\n",
       "      <td>46.367521</td>\n",
       "    </tr>\n",
       "    <tr>\n",
       "      <th>Support Vector Machine</th>\n",
       "      <td>11.433255</td>\n",
       "      <td>42.948718</td>\n",
       "    </tr>\n",
       "  </tbody>\n",
       "</table>\n",
       "</div>"
      ],
      "text/plain": [
       "                        Precision     Recall\n",
       "Dummy Classifier         7.792208   8.823529\n",
       "Gradient Boosting       12.318290  23.290598\n",
       "Random Forest           14.509166  36.324786\n",
       "Logistic Regression     12.350660  40.811966\n",
       "K-Neighbors             10.427687  46.367521\n",
       "Support Vector Machine  11.433255  42.948718"
      ]
     },
     "metadata": {},
     "output_type": "display_data"
    },
    {
     "data": {
      "image/png": "[encoded data removed]",
      "text/plain": [
       "<matplotlib.figure.Figure at 0x104afe828>"
      ]
     },
     "metadata": {},
     "output_type": "display_data"
    }
   ],
   "source": [
    "# Moderate Performing\n",
    "\n",
    "ml = OrderedDict()\n",
    "\n",
    "ml['Dummy Classifier']       = [0.07792208*100, 0.08823529*100]\n",
    "ml['Gradient Boosting']      = [0.1231829*100,  0.23290598*100]\n",
    "ml['Random Forest']          = [0.14509166*100, 0.36324786*100]\n",
    "ml['Logistic Regression']    = [0.1235066*100,  0.40811966*100]\n",
    "ml['K-Neighbors']            = [0.10427687*100, 0.46367521*100]\n",
    "ml['Support Vector Machine'] = [0.11433255*100, 0.42948718*100]\n",
    "\n",
    "\n",
    "precision_recall = pd.DataFrame(data=list(ml.values()), \n",
    "                                index=ml.keys(),\n",
    "                                columns=['Precision', 'Recall'])\n",
    "\n",
    "fig, ax = plt.subplots()\n",
    "\n",
    "colorlist = ['steelblue', 'navy', 'green', 'darkorange', 'purple', 'teal']\n",
    "\n",
    "for i, l in enumerate(ml):\n",
    "    precision_recall.iloc[[i]].plot(x='Recall', y='Precision', kind='scatter',\n",
    "                                    figsize=(8, 6), ax=ax, s=90, label=l,\n",
    "                                    color=colorlist[i], grid=True\n",
    "                                   )\n",
    "\n",
    "\n",
    "plt.title('Moderate Performing Inventory', fontsize=18)\n",
    "\n",
    "plt.xlabel('Recall (%)', fontsize=16)\n",
    "plt.ylabel('Precision (%)', fontsize=16)\n",
    "\n",
    "plt.legend(prop={'size': 11.5}, loc=8)\n",
    "\n",
    "display(precision_recall)"
   ]
  },
  {
   "cell_type": "markdown",
   "metadata": {},
   "source": [
    "In the above plot, both random forest and logistic regression perform the best for moderately performing inventory. For now these are our best candidates."
   ]
  },
  {
   "cell_type": "markdown",
   "metadata": {},
   "source": [
    "### High Performing Inventory"
   ]
  },
  {
   "cell_type": "code",
   "execution_count": 7,
   "metadata": {
    "scrolled": false
   },
   "outputs": [
    {
     "data": {
      "text/html": [
       "<div>\n",
       "<style scoped>\n",
       "    .dataframe tbody tr th:only-of-type {\n",
       "        vertical-align: middle;\n",
       "    }\n",
       "\n",
       "    .dataframe tbody tr th {\n",
       "        vertical-align: top;\n",
       "    }\n",
       "\n",
       "    .dataframe thead th {\n",
       "        text-align: right;\n",
       "    }\n",
       "</style>\n",
       "<table border=\"1\" class=\"dataframe\">\n",
       "  <thead>\n",
       "    <tr style=\"text-align: right;\">\n",
       "      <th></th>\n",
       "      <th>Precision</th>\n",
       "      <th>Recall</th>\n",
       "    </tr>\n",
       "  </thead>\n",
       "  <tbody>\n",
       "    <tr>\n",
       "      <th>Dummy Classifier</th>\n",
       "      <td>4.697987</td>\n",
       "      <td>4.575163</td>\n",
       "    </tr>\n",
       "    <tr>\n",
       "      <th>Gradient Boosting</th>\n",
       "      <td>22.743540</td>\n",
       "      <td>26.114650</td>\n",
       "    </tr>\n",
       "    <tr>\n",
       "      <th>Random Forest</th>\n",
       "      <td>23.099078</td>\n",
       "      <td>33.333333</td>\n",
       "    </tr>\n",
       "    <tr>\n",
       "      <th>Logistic Regression</th>\n",
       "      <td>17.903869</td>\n",
       "      <td>51.167728</td>\n",
       "    </tr>\n",
       "    <tr>\n",
       "      <th>K-Neighbors</th>\n",
       "      <td>15.855865</td>\n",
       "      <td>51.804671</td>\n",
       "    </tr>\n",
       "    <tr>\n",
       "      <th>Support Vector Machine</th>\n",
       "      <td>15.914071</td>\n",
       "      <td>54.564756</td>\n",
       "    </tr>\n",
       "  </tbody>\n",
       "</table>\n",
       "</div>"
      ],
      "text/plain": [
       "                        Precision     Recall\n",
       "Dummy Classifier         4.697987   4.575163\n",
       "Gradient Boosting       22.743540  26.114650\n",
       "Random Forest           23.099078  33.333333\n",
       "Logistic Regression     17.903869  51.167728\n",
       "K-Neighbors             15.855865  51.804671\n",
       "Support Vector Machine  15.914071  54.564756"
      ]
     },
     "metadata": {},
     "output_type": "display_data"
    },
    {
     "data": {
      "image/png": "[encoded data removed]",
      "text/plain": [
       "<matplotlib.figure.Figure at 0x10439f630>"
      ]
     },
     "metadata": {},
     "output_type": "display_data"
    }
   ],
   "source": [
    "# High Performing\n",
    "\n",
    "ml = OrderedDict()\n",
    "\n",
    "ml['Dummy Classifier']       = [0.04697987*100, 0.04575163*100]\n",
    "ml['Gradient Boosting']      = [0.2274354*100,  0.2611465*100]\n",
    "ml['Random Forest']          = [0.23099078*100, 0.33333333*100]\n",
    "ml['Logistic Regression']    = [0.17903869*100, 0.51167728*100]\n",
    "ml['K-Neighbors']            = [0.15855865*100, 0.51804671*100]\n",
    "ml['Support Vector Machine'] = [0.15914071*100, 0.54564756*100]\n",
    "\n",
    "\n",
    "precision_recall = pd.DataFrame(data=list(ml.values()), \n",
    "                                index=ml.keys(),\n",
    "                                columns=['Precision', 'Recall'])\n",
    "\n",
    "fig, ax = plt.subplots()\n",
    "\n",
    "colorlist = ['steelblue', 'navy', 'green', 'darkorange', 'purple', 'teal']\n",
    "\n",
    "for i, l in enumerate(ml):\n",
    "    precision_recall.iloc[[i]].plot(x='Recall', y='Precision', kind='scatter',\n",
    "                                    figsize=(8, 6), ax=ax, s=90, label=l,\n",
    "                                    color=colorlist[i], grid=True\n",
    "                                   )\n",
    "\n",
    "\n",
    "plt.title('High Performing Inventory', fontsize=18)\n",
    "\n",
    "plt.xlabel('Recall (%)', fontsize=16)\n",
    "plt.ylabel('Precision (%)', fontsize=16)\n",
    "\n",
    "\n",
    "plt.legend(prop={'size': 11.5}, loc=4)\n",
    "\n",
    "display(precision_recall)"
   ]
  },
  {
   "cell_type": "markdown",
   "metadata": {},
   "source": [
    "In this last plot, we can see that logistic regression out performs random forest. For this reason we select logistic regression as our final model. It has the best recall without sacrificing precision too much."
   ]
  },
  {
   "cell_type": "markdown",
   "metadata": {},
   "source": [
    "## Precision vs Recall\n",
    "\n",
    "It will be beneficial to verify that the models are using the most optimal probability threshold to classify a sample as either a postive sample or negative sample."
   ]
  },
  {
   "cell_type": "markdown",
   "metadata": {},
   "source": [
    "### Logistic Regression"
   ]
  },
  {
   "cell_type": "code",
   "execution_count": 20,
   "metadata": {},
   "outputs": [],
   "source": [
    "# Train model\n",
    "log.fit(X_train, y_train);"
   ]
  },
  {
   "cell_type": "code",
   "execution_count": 24,
   "metadata": {},
   "outputs": [
    {
     "data": {
      "image/png": "[encoded data removed]",
      "text/plain": [
       "<matplotlib.figure.Figure at 0x11b340128>"
      ]
     },
     "metadata": {},
     "output_type": "display_data"
    }
   ],
   "source": [
    "# Moderate Performing\n",
    "\n",
    "pos_label = 1\n",
    "\n",
    "\n",
    "precision, recall, thresholds = precision_recall_curve(y_test,\n",
    "                   log.predict_proba(X_test)[:, pos_label],\n",
    "                   pos_label=pos_label)\n",
    "\n",
    "precision_recall = pd.DataFrame(data={'Precision': precision,\n",
    "                                      'Recall': recall,\n",
    "                                      'Threshold': np.append(thresholds, [1.0])})\n",
    "\n",
    "precision_recall[['Precision', 'Recall']] = \\\n",
    "          precision_recall.apply(lambda df: df[['Precision', 'Recall']]*100, axis=1)\n",
    "\n",
    "fig, ax = plt.subplots()\n",
    "\n",
    "precision_recall.plot(x='Recall', y='Precision', kind='line',\n",
    "                      figsize=(8, 6), ax=ax, color='darkorange',\n",
    "                      grid=True)\n",
    "\n",
    "# cross-validated score\n",
    "plt.plot(40.811966, 12.350660, 'o', color='darkorange')\n",
    "\n",
    "plt.title('Moderate Performing Inventory', fontsize=18)\n",
    "\n",
    "plt.xlabel('Recall (%)', fontsize=16)\n",
    "plt.ylabel('Precision (%)', fontsize=16)\n",
    "\n",
    "\n",
    "plt.legend(['Logistic Regression',\n",
    "            'Logistic Regression CV'],\n",
    "           prop={'size': 11.5}, loc=1);"
   ]
  },
  {
   "cell_type": "code",
   "execution_count": 23,
   "metadata": {
    "scrolled": false
   },
   "outputs": [
    {
     "data": {
      "image/png": "[encoded data removed]",
      "text/plain": [
       "<matplotlib.figure.Figure at 0x11bb472e8>"
      ]
     },
     "metadata": {},
     "output_type": "display_data"
    }
   ],
   "source": [
    "# High Performing\n",
    "\n",
    "pos_label = 2\n",
    "\n",
    "precision, recall, thresholds = precision_recall_curve(y_test,\n",
    "                   log.predict_proba(X_test)[:, pos_label],\n",
    "                   pos_label=pos_label)\n",
    "\n",
    "precision_recall = pd.DataFrame(data={'Precision': precision,\n",
    "                                      'Recall': recall,\n",
    "                                      'Threshold': np.append(thresholds, [1.0])})\n",
    "\n",
    "precision_recall[['Precision', 'Recall']] = \\\n",
    "          precision_recall.apply(lambda df: df[['Precision', 'Recall']]*100, axis=1)\n",
    "\n",
    "fig, ax = plt.subplots()\n",
    "\n",
    "precision_recall.plot(x='Recall', y='Precision', kind='line',\n",
    "                      figsize=(8, 6), ax=ax, color='darkorange',\n",
    "                      grid=True)\n",
    "\n",
    "# cross-validated score\n",
    "plt.plot(51.167728, 17.903869, 'o', color='darkorange')\n",
    "\n",
    "plt.title('High Performing Inventory', fontsize=18)\n",
    "\n",
    "plt.xlabel('Recall (%)', fontsize=16)\n",
    "plt.ylabel('Precision (%)', fontsize=16)\n",
    "\n",
    "\n",
    "plt.legend(['Logistic Regression',\n",
    "            'Logistic Regression CV'],\n",
    "           prop={'size': 11.5}, loc=1);"
   ]
  },
  {
   "cell_type": "markdown",
   "metadata": {},
   "source": [
    "Our cross-validated precision and recall values appear as dots on the figure. We can see that the probabilty thresholds chosen by the algorithm are quite good and do not need to be modified. We must keep in mind that the curves themselves are not cross-validated so they will have statistical fluctations making the cross-validated points not lie completely on the curve."
   ]
  },
  {
   "cell_type": "markdown",
   "metadata": {},
   "source": [
    "### Gradient Boosting Classifier"
   ]
  },
  {
   "cell_type": "code",
   "execution_count": 25,
   "metadata": {
    "collapsed": true
   },
   "outputs": [],
   "source": [
    "# Train model\n",
    "gbc.fit(X_train, y_train);"
   ]
  },
  {
   "cell_type": "code",
   "execution_count": 26,
   "metadata": {},
   "outputs": [
    {
     "data": {
      "image/png": "[encoded data removed]",
      "text/plain": [
       "<matplotlib.figure.Figure at 0x119c92710>"
      ]
     },
     "metadata": {},
     "output_type": "display_data"
    }
   ],
   "source": [
    "# Moderate Performing\n",
    "\n",
    "pos_label = 1\n",
    "\n",
    "precision, recall, thresholds = precision_recall_curve(y_test,\n",
    "                   gbc.predict_proba(X_test)[:, pos_label],\n",
    "                   pos_label=pos_label)\n",
    "\n",
    "precision_recall = pd.DataFrame(data={'Precision': precision,\n",
    "                                      'Recall': recall,\n",
    "                                      'Threshold': np.append(thresholds, [1.0])})\n",
    "\n",
    "precision_recall[['Precision', 'Recall']] = \\\n",
    "          precision_recall.apply(lambda df: df[['Precision', 'Recall']]*100, axis=1)\n",
    "\n",
    "fig, ax = plt.subplots()\n",
    "\n",
    "precision_recall.plot(x='Recall', y='Precision', kind='line',\n",
    "                      figsize=(8, 6), ax=ax, color='navy',\n",
    "                      grid=True)\n",
    "\n",
    "# cross-validated score\n",
    "plt.plot(23.290598, 12.318290, 'o', color='navy')\n",
    "\n",
    "plt.title('Moderate Performing Inventory', fontsize=18)\n",
    "\n",
    "plt.xlabel('Recall (%)', fontsize=16)\n",
    "plt.ylabel('Precision (%)', fontsize=16)\n",
    "\n",
    "\n",
    "plt.legend(['Gradient Boosting',\n",
    "            'Gradient Boosting CV'],\n",
    "           prop={'size': 11.5}, loc=1);"
   ]
  },
  {
   "cell_type": "code",
   "execution_count": 27,
   "metadata": {},
   "outputs": [
    {
     "data": {
      "image/png": "[encoded data removed]",
      "text/plain": [
       "<matplotlib.figure.Figure at 0x11b8db4e0>"
      ]
     },
     "metadata": {},
     "output_type": "display_data"
    }
   ],
   "source": [
    "# High Performing\n",
    "\n",
    "pos_label = 2\n",
    "\n",
    "precision, recall, thresholds = precision_recall_curve(y_test,\n",
    "                   gbc.predict_proba(X_test)[:, pos_label],\n",
    "                   pos_label=pos_label)\n",
    "\n",
    "precision_recall = pd.DataFrame(data={'Precision': precision,\n",
    "                                      'Recall': recall,\n",
    "                                      'Threshold': np.append(thresholds, [1.0])})\n",
    "\n",
    "precision_recall[['Precision', 'Recall']] = \\\n",
    "          precision_recall.apply(lambda df: df[['Precision', 'Recall']]*100, axis=1)\n",
    "\n",
    "fig, ax = plt.subplots()\n",
    "\n",
    "precision_recall.plot(x='Recall', y='Precision', kind='line',\n",
    "                      figsize=(8, 6), ax=ax, color='navy',\n",
    "                      grid=True)\n",
    "\n",
    "# cross-validated score\n",
    "plt.plot(26.114650, 22.743540, 'o', color='navy')\n",
    "\n",
    "plt.title('High Performing Inventory', fontsize=18)\n",
    "\n",
    "plt.xlabel('Recall (%)', fontsize=16)\n",
    "plt.ylabel('Precision (%)', fontsize=16)\n",
    "\n",
    "\n",
    "plt.legend(['Gradient Boosting',\n",
    "            'Gradient Boosting CV'],\n",
    "           prop={'size': 11.5}, loc=1);"
   ]
  },
  {
   "cell_type": "markdown",
   "metadata": {},
   "source": [
    "### Random Forrest Classifier"
   ]
  },
  {
   "cell_type": "code",
   "execution_count": null,
   "metadata": {
    "collapsed": true
   },
   "outputs": [],
   "source": [
    "# Train model\n",
    "rfc.fit(X_train, y_train);"
   ]
  },
  {
   "cell_type": "code",
   "execution_count": null,
   "metadata": {},
   "outputs": [],
   "source": [
    "# Moderate Performing\n",
    "\n",
    "pos_label = 1\n",
    "\n",
    "precision, recall, thresholds = precision_recall_curve(y_test,\n",
    "                   rfc.predict_proba(X_test)[:, pos_label],\n",
    "                   pos_label=pos_label)\n",
    "\n",
    "precision_recall = pd.DataFrame(data={'Precision': precision,\n",
    "                                      'Recall': recall,\n",
    "                                      'Threshold': np.append(thresholds, [1.0])})\n",
    "\n",
    "precision_recall[['Precision', 'Recall']] = \\\n",
    "          precision_recall.apply(lambda df: df[['Precision', 'Recall']]*100, axis=1)\n",
    "\n",
    "fig, ax = plt.subplots()\n",
    "\n",
    "precision_recall.plot(x='Recall', y='Precision', kind='line',\n",
    "                      figsize=(8, 6), ax=ax, color='green',\n",
    "                      grid=True)\n",
    "\n",
    "# cross-validated score\n",
    "plt.plot(36.324786, 14.509166, 'o', color='green')\n",
    "\n",
    "plt.title('Moderate Performing Inventory', fontsize=18)\n",
    "\n",
    "plt.xlabel('Recall (%)', fontsize=16)\n",
    "plt.ylabel('Precision (%)', fontsize=16)\n",
    "\n",
    "\n",
    "plt.legend(['Random Forest',\n",
    "            'Random Forest CV'],\n",
    "           prop={'size': 11.5}, loc=1);"
   ]
  },
  {
   "cell_type": "code",
   "execution_count": null,
   "metadata": {},
   "outputs": [],
   "source": [
    "# High Performing\n",
    "\n",
    "pos_label = 2\n",
    "\n",
    "precision, recall, thresholds = precision_recall_curve(y_test,\n",
    "                   rfc.predict_proba(X_test)[:, pos_label],\n",
    "                   pos_label=pos_label)\n",
    "\n",
    "precision_recall = pd.DataFrame(data={'Precision': precision,\n",
    "                                      'Recall': recall,\n",
    "                                      'Threshold': np.append(thresholds, [1.0])})\n",
    "\n",
    "precision_recall[['Precision', 'Recall']] = \\\n",
    "          precision_recall.apply(lambda df: df[['Precision', 'Recall']]*100, axis=1)\n",
    "\n",
    "fig, ax = plt.subplots()\n",
    "\n",
    "precision_recall.plot(x='Recall', y='Precision', kind='line',\n",
    "                      figsize=(8, 6), ax=ax, color='green',\n",
    "                      grid=True)\n",
    "\n",
    "# cross-validated score\n",
    "plt.plot(33.333333, 23.099078, 'o', color='green')\n",
    "\n",
    "plt.title('High Performing Inventory', fontsize=18)\n",
    "\n",
    "plt.xlabel('Recall (%)', fontsize=16)\n",
    "plt.ylabel('Precision (%)', fontsize=16)\n",
    "\n",
    "\n",
    "plt.legend(['Random Forest',\n",
    "            'Random Forest CV'],\n",
    "           prop={'size': 11.5}, loc=1);"
   ]
  },
  {
   "cell_type": "markdown",
   "metadata": {},
   "source": [
    "### K-Neighbors Classifier"
   ]
  },
  {
   "cell_type": "code",
   "execution_count": null,
   "metadata": {
    "collapsed": true
   },
   "outputs": [],
   "source": [
    "# Train model\n",
    "knn.fit(X_train, y_train);"
   ]
  },
  {
   "cell_type": "code",
   "execution_count": null,
   "metadata": {},
   "outputs": [],
   "source": [
    "# Moderate Performing\n",
    "\n",
    "pos_label = 1\n",
    "\n",
    "precision, recall, thresholds = precision_recall_curve(y_test,\n",
    "                   knn.predict_proba(X_test)[:, pos_label],\n",
    "                   pos_label=pos_label)\n",
    "\n",
    "precision_recall = pd.DataFrame(data={'Precision': precision,\n",
    "                                      'Recall': recall,\n",
    "                                      'Threshold': np.append(thresholds, [1.0])})\n",
    "\n",
    "precision_recall[['Precision', 'Recall']] = \\\n",
    "          precision_recall.apply(lambda df: df[['Precision', 'Recall']]*100, axis=1)\n",
    "\n",
    "fig, ax = plt.subplots()\n",
    "\n",
    "precision_recall.plot(x='Recall', y='Precision', kind='line',\n",
    "                      figsize=(8, 6), ax=ax, color='purple',\n",
    "                      grid=True)\n",
    "\n",
    "# cross-validated score\n",
    "plt.plot(46.367521, 10.427687, 'o', color='purple')\n",
    "\n",
    "plt.title('Moderate Performing Inventory', fontsize=18)\n",
    "\n",
    "plt.xlabel('Recall (%)', fontsize=16)\n",
    "plt.ylabel('Precision (%)', fontsize=16)\n",
    "\n",
    "\n",
    "plt.legend(['KNeighbors',\n",
    "            'KNeighbors CV'],\n",
    "           prop={'size': 11.5}, loc=1);"
   ]
  },
  {
   "cell_type": "code",
   "execution_count": null,
   "metadata": {},
   "outputs": [],
   "source": [
    "# High Performing\n",
    "\n",
    "pos_label = 2\n",
    "\n",
    "precision, recall, thresholds = precision_recall_curve(y_test,\n",
    "                   knn.predict_proba(X_test)[:, pos_label],\n",
    "                   pos_label=pos_label)\n",
    "\n",
    "precision_recall = pd.DataFrame(data={'Precision': precision,\n",
    "                                      'Recall': recall,\n",
    "                                      'Threshold': np.append(thresholds, [1.0])})\n",
    "\n",
    "precision_recall[['Precision', 'Recall']] = \\\n",
    "          precision_recall.apply(lambda df: df[['Precision', 'Recall']]*100, axis=1)\n",
    "\n",
    "fig, ax = plt.subplots()\n",
    "\n",
    "precision_recall.plot(x='Recall', y='Precision', kind='line',\n",
    "                      figsize=(8, 6), ax=ax, color='purple',\n",
    "                      grid=True)\n",
    "\n",
    "# cross-validated score\n",
    "plt.plot(51.804671, 15.855865, 'o', color='purple')\n",
    "\n",
    "plt.title('High Performing Inventory', fontsize=18)\n",
    "\n",
    "plt.xlabel('Recall (%)', fontsize=16)\n",
    "plt.ylabel('Precision (%)', fontsize=16)\n",
    "\n",
    "\n",
    "plt.legend(['KNeighbors',\n",
    "            'KNeighbors CV'],\n",
    "           prop={'size': 11.5}, loc=1);"
   ]
  },
  {
   "cell_type": "markdown",
   "metadata": {},
   "source": [
    "### Support Vector Machine Classifier"
   ]
  },
  {
   "cell_type": "code",
   "execution_count": null,
   "metadata": {
    "collapsed": true
   },
   "outputs": [],
   "source": [
    "# Train model\n",
    "svm.fit(X_train, y_train);"
   ]
  },
  {
   "cell_type": "code",
   "execution_count": null,
   "metadata": {},
   "outputs": [],
   "source": [
    "# Moderate Performing\n",
    "\n",
    "pos_label = 1\n",
    "\n",
    "precision, recall, thresholds = precision_recall_curve(y_test,\n",
    "                   svm.predict_proba(X_test)[:, pos_label],\n",
    "                   pos_label=pos_label)\n",
    "\n",
    "precision_recall = pd.DataFrame(data={'Precision': precision,\n",
    "                                      'Recall': recall,\n",
    "                                      'Threshold': np.append(thresholds, [1.0])})\n",
    "\n",
    "precision_recall[['Precision', 'Recall']] = \\\n",
    "          precision_recall.apply(lambda df: df[['Precision', 'Recall']]*100, axis=1)\n",
    "\n",
    "fig, ax = plt.subplots()\n",
    "\n",
    "precision_recall.plot(x='Recall', y='Precision', kind='line',\n",
    "                      figsize=(8, 6), ax=ax, color='teal',\n",
    "                      grid=True)\n",
    "\n",
    "# cross-validated score\n",
    "plt.plot(42.948718, 11.433255, 'o', color='teal')\n",
    "\n",
    "plt.title('Moderate Performing Inventory', fontsize=18)\n",
    "\n",
    "plt.xlabel('Recall (%)', fontsize=16)\n",
    "plt.ylabel('Precision (%)', fontsize=16)\n",
    "\n",
    "\n",
    "plt.legend(['Support Vector Machine',\n",
    "            'Support Vector Machine CV'],\n",
    "           prop={'size': 11.5}, loc=1);"
   ]
  },
  {
   "cell_type": "code",
   "execution_count": null,
   "metadata": {
    "scrolled": false
   },
   "outputs": [],
   "source": [
    "# High Performing\n",
    "\n",
    "pos_label = 2\n",
    "\n",
    "precision, recall, thresholds = precision_recall_curve(y_test,\n",
    "                   svm.predict_proba(X_test)[:, pos_label],\n",
    "                   pos_label=pos_label)\n",
    "\n",
    "precision_recall = pd.DataFrame(data={'Precision': precision,\n",
    "                                      'Recall': recall,\n",
    "                                      'Threshold': np.append(thresholds, [1.0])})\n",
    "\n",
    "precision_recall[['Precision', 'Recall']] = \\\n",
    "          precision_recall.apply(lambda df: df[['Precision', 'Recall']]*100, axis=1)\n",
    "\n",
    "fig, ax = plt.subplots()\n",
    "\n",
    "precision_recall.plot(x='Recall', y='Precision', kind='line',\n",
    "                      figsize=(8, 6), ax=ax, color='teal',\n",
    "                      grid=True)\n",
    "\n",
    "# cross-validated score\n",
    "plt.plot(54.564756, 15.914071, 'o', color='teal')\n",
    "\n",
    "plt.title('High Performing Inventory', fontsize=18)\n",
    "\n",
    "plt.xlabel('Recall (%)', fontsize=16)\n",
    "plt.ylabel('Precision (%)', fontsize=16)\n",
    "\n",
    "\n",
    "plt.legend(['Support Vector Machine',\n",
    "            'Support Vector Machine CV'],\n",
    "           prop={'size': 11.5}, loc=1);"
   ]
  },
  {
   "cell_type": "markdown",
   "metadata": {},
   "source": [
    "## Learning Curves"
   ]
  },
  {
   "cell_type": "code",
   "execution_count": null,
   "metadata": {
    "scrolled": false
   },
   "outputs": [],
   "source": [
    "# Learning curve title\n",
    "title = \"Learning Curves (Logistic Regression)\"\n",
    "\n",
    "# Load model\n",
    "log = joblib.load('models/LogisticRegression.pkl')\n",
    "\n",
    "## Random Over Sampling of minority class\n",
    "ros = RandomOverSampler(ratio='all', random_state=1)\n",
    "\n",
    "# Pipeline\n",
    "pipe = make_pipeline(ros, scaler, log)\n",
    "\n",
    "plot_learning_curve(pipe, title, X, y, ylim=(-0.20, -1.30), \n",
    "                    cv=None, scoring='neg_log_loss', n_jobs=-1)"
   ]
  },
  {
   "cell_type": "markdown",
   "metadata": {},
   "source": [
    "## Feature Importance"
   ]
  },
  {
   "cell_type": "code",
   "execution_count": null,
   "metadata": {
    "collapsed": true,
    "scrolled": false
   },
   "outputs": [],
   "source": [
    "# Load model\n",
    "log = joblib.load('models/LogisticRegression.pkl')\n",
    "\n",
    "log_coeff = pd.DataFrame(data=log.best_estimator_._final_estimator.coef_,\n",
    "                         index=[0, 1, 2], columns=X.columns)"
   ]
  },
  {
   "cell_type": "code",
   "execution_count": null,
   "metadata": {
    "collapsed": true,
    "scrolled": false
   },
   "outputs": [],
   "source": [
    "top_n = 5\n",
    "\n",
    "pos_class = 1\n",
    "reference_class = 0\n",
    "\n",
    "pos_class_log = log_coeff.iloc[[pos_class]]\n",
    "\n",
    "reference_class_log = log_coeff.iloc[[reference_class]]\\\n",
    "                                .rename(index={reference_class: pos_class})\n",
    "\n",
    "k_class_log = (pos_class_log - reference_class_log)\\\n",
    "              .sort_values(by=[pos_class], axis=1,\n",
    "                           ascending=False).transpose()\n",
    "\n",
    "k_class = k_class_log.rename({'brand_fausto puglisi': 'fausto puglisi',\n",
    "                              'brand_zimmermann': 'zimmermann',\n",
    "                              'brand_naven': 'naven',\n",
    "                              'brand_igigi': 'igigi', \n",
    "                              'rent_per_week': 'rental price'})\n",
    "\n",
    "ax = k_class.head(top_n).plot(kind='barh')\n",
    "\n",
    "plt.title('Feature Importance (Moderate)', fontsize=16)\n",
    "\n",
    "plt.xlabel('Logarithmic Loss Coefficients', fontsize=14)\n",
    "\n",
    "plt.gca().invert_yaxis()\n",
    "\n",
    "rng = [float(x)/100 for x in range(0, 30, 5)]\n",
    "\n",
    "ax.set_xticklabels(rng, rotation=0, fontsize=13)\n",
    "ax.set_yticklabels(k_class.index, rotation=0, fontsize=13)\n",
    "\n",
    "ax.legend_.remove()\n",
    "\n",
    "display(k_class.head(top_n))\n",
    "\n",
    "display(k_class.loc[['size', 'rental price'], :])"
   ]
  },
  {
   "cell_type": "code",
   "execution_count": null,
   "metadata": {
    "collapsed": true
   },
   "outputs": [],
   "source": [
    "top_n = 5\n",
    "\n",
    "pos_class = 2\n",
    "reference_class = 0\n",
    "\n",
    "pos_class_log = log_coeff.iloc[[pos_class]]\n",
    "\n",
    "reference_class_log = log_coeff.iloc[[reference_class]]\\\n",
    "                               .rename(index={reference_class: pos_class})\n",
    "\n",
    "k_class_log = (pos_class_log - reference_class_log)\\\n",
    "              .sort_values(by=[pos_class], axis=1,\n",
    "                           ascending=False).transpose()\n",
    "\n",
    "k_class = k_class_log.rename({'brand_for love & lemons': 'for love & lemons',\n",
    "                              'brand_self-portrait': 'self-portrait',\n",
    "                              'brand_zimmermann': 'zimmermann',\n",
    "                              'brand_coach': 'coach', \n",
    "                              'rent_per_week': 'rental price'})\n",
    "\n",
    "ax = k_class.head(top_n).plot(kind='barh')\n",
    "\n",
    "plt.title('Feature Importance (Moderate)', fontsize=16)\n",
    "\n",
    "plt.xlabel('Logarithmic Loss Coefficients', fontsize=14)\n",
    "\n",
    "plt.gca().invert_yaxis()\n",
    "\n",
    "rng = [float(x)/100 for x in range(0, 30, 5)]\n",
    "\n",
    "ax.set_xticklabels(rng, rotation=0, fontsize=13)\n",
    "ax.set_yticklabels(k_class.index, rotation=0, fontsize=13)\n",
    "\n",
    "ax.legend_.remove()\n",
    "\n",
    "display(k_class.head(top_n))\n",
    "\n",
    "display(k_class.loc[['size', 'rental price'], :])"
   ]
  },
  {
   "cell_type": "code",
   "execution_count": null,
   "metadata": {
    "collapsed": true
   },
   "outputs": [],
   "source": [
    "top_n = 5\n",
    "\n",
    "pos_class = 2\n",
    "reference_class = 1\n",
    "\n",
    "pos_class_log = log_coeff.iloc[[pos_class]]\n",
    "\n",
    "reference_class_log = log_coeff.iloc[[reference_class]]\\\n",
    "                               .rename(index={reference_class: pos_class})\n",
    "\n",
    "k_class_log = (pos_class_log - reference_class_log)\\\n",
    "              .sort_values(by=[pos_class], axis=1,\n",
    "                           ascending=False).transpose()\n",
    "\n",
    "k_class = k_class_log.rename({'brand_self-portrait': 'self-portrait',\n",
    "                              'brand_for love & lemons': 'for love & lemons',\n",
    "                              'brand_lovers + friends': 'lovers + friends',\n",
    "                              'brand_katya lee': 'katya lee', \n",
    "                              'brand_jill stuart': 'jill stuart',\n",
    "                              'rent_per_week': 'rental price'})\n",
    "\n",
    "ax = k_class.head(top_n).plot(kind='barh')\n",
    "\n",
    "plt.title('Feature Importance (Moderate)', fontsize=16)\n",
    "\n",
    "plt.xlabel('Logarithmic Loss Coefficients', fontsize=14)\n",
    "\n",
    "plt.gca().invert_yaxis()\n",
    "\n",
    "rng = [float(x)/100 for x in range(0, 30, 5)]\n",
    "\n",
    "ax.set_xticklabels(rng, rotation=0, fontsize=13)\n",
    "ax.set_yticklabels(k_class.index, rotation=0, fontsize=13)\n",
    "\n",
    "ax.legend_.remove()\n",
    "\n",
    "display(k_class.head(top_n))\n",
    "\n",
    "display(k_class.loc[['size', 'rental price'], :])"
   ]
  },
  {
   "cell_type": "markdown",
   "metadata": {},
   "source": [
    "## Log Loss"
   ]
  },
  {
   "cell_type": "code",
   "execution_count": null,
   "metadata": {
    "collapsed": true,
    "scrolled": false
   },
   "outputs": [],
   "source": [
    "ml = OrderedDict()\n",
    "\n",
    "ml['Dummy Classifier']       = 9.45090896378153\n",
    "ml['Gradient Boosting']      = 0.7208726039328565\n",
    "ml['Random Forest']          = 0.8380180430141219\n",
    "ml['Logistic Regression']    = 1.062011157653542\n",
    "ml['KNeighbors']             = 2.3032902858403044\n",
    "ml['Support Vector Machine'] = 1.007301550578533\n",
    "\n",
    "\n",
    "logloss = pd.DataFrame(data=list(ml.values()), index=ml.keys(), \n",
    "                       columns=['log loss'])\n",
    "\n",
    "ax = logloss.plot(kind='barh', figsize=(8, 6), grid=True)\n",
    "\n",
    "plt.title('Logarithmic Loss', fontsize=18)\n",
    "\n",
    "plt.xlabel('Log Loss', fontsize=16)\n",
    "\n",
    "ax.set_xticklabels(list(range(0, 12, 2)), rotation=0, fontsize=12)\n",
    "ax.set_yticklabels(ml.keys(), rotation=0, fontsize=12)\n",
    "\n",
    "ax.legend_.remove()\n",
    "\n",
    "display(logloss)"
   ]
  },
  {
   "cell_type": "code",
   "execution_count": null,
   "metadata": {
    "collapsed": true
   },
   "outputs": [],
   "source": []
  }
 ],
 "metadata": {
  "kernelspec": {
   "display_name": "Python 3",
   "language": "python",
   "name": "python3"
  },
  "language_info": {
   "codemirror_mode": {
    "name": "ipython",
    "version": 3
   },
   "file_extension": ".py",
   "mimetype": "text/x-python",
   "name": "python",
   "nbconvert_exporter": "python",
   "pygments_lexer": "ipython3",
   "version": "3.6.1"
  }
 },
 "nbformat": 4,
 "nbformat_minor": 2
}
