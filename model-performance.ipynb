{
 "cells": [
  {
   "cell_type": "markdown",
   "metadata": {},
   "source": [
    "# Evaluating Model Performance\n",
    "\n",
    "**Notebook by: Emmanuel Contreras-Campana, Ph.D.**"
   ]
  },
  {
   "cell_type": "markdown",
   "metadata": {},
   "source": [
    "## Load Libraries"
   ]
  },
  {
   "cell_type": "code",
   "execution_count": 2,
   "metadata": {
    "collapsed": true
   },
   "outputs": [],
   "source": [
    "# Import common python library\n",
    "from collections import OrderedDict\n",
    "\n",
    "# Import numpy library\n",
    "import numpy as np\n",
    "\n",
    "# Import matplotlib library\n",
    "import matplotlib.pyplot as plt\n",
    "\n",
    "from matplotlib.pyplot import *\n",
    "from matplotlib import colors\n",
    "\n",
    "# Import pandas library\n",
    "import pandas as pd\n",
    "\n",
    "# Import scikit-learn library\n",
    "from sklearn.externals import joblib\n",
    "\n",
    "from sklearn.dummy import DummyClassifier\n",
    "\n",
    "from sklearn.linear_model import LogisticRegression\n",
    "\n",
    "from sklearn.ensemble import GradientBoostingClassifier\n",
    "from sklearn.ensemble import RandomForestClassifier\n",
    "\n",
    "from sklearn.neighbors import KNeighborsClassifier\n",
    "\n",
    "from sklearn.svm import SVC\n",
    "\n",
    "\n",
    "from sklearn.metrics import precision_recall_curve\n",
    "\n",
    "# Import imbalance-learn library\n",
    "from imblearn.pipeline import make_pipeline\n",
    "\n",
    "# Import user created library\n",
    "from dskit import *\n",
    "\n",
    "% matplotlib inline"
   ]
  },
  {
   "cell_type": "markdown",
   "metadata": {},
   "source": [
    "## Load Data"
   ]
  },
  {
   "cell_type": "code",
   "execution_count": 4,
   "metadata": {
    "collapsed": true
   },
   "outputs": [],
   "source": [
    "# load features\n",
    "X_train = pd.read_csv(filepath_or_buffer='data/X_train.csv', sep=',',\n",
    "                      header='infer', index_col=0)\n",
    "\n",
    "X_test = pd.read_csv(filepath_or_buffer='data/X_test.csv', sep=',',\n",
    "                      header='infer', index_col=0)\n",
    "\n",
    "# load targets\n",
    "y_train = pd.read_csv(filepath_or_buffer='data/y_train.csv', sep=',',\n",
    "                      header='infer', index_col=0, \n",
    "                      dtype={'rental_category': 'int'})['rental_category']\n",
    "\n",
    "y_test = pd.read_csv(filepath_or_buffer='data/y_test.csv', sep=',',\n",
    "                     header='infer', index_col=0, \n",
    "                     dtype={'rental_category': 'int'})['rental_category']"
   ]
  },
  {
   "cell_type": "code",
   "execution_count": null,
   "metadata": {
    "collapsed": true
   },
   "outputs": [],
   "source": [
    "# Load models\n",
    "\n",
    "dc = joblib.load('models/DummyClassifier.pkl')\n",
    "log = joblib.load('models/LogisticRegression.pkl')\n",
    "gbc = joblib.load('models/GradientBoostingClassifier.pkl')\n",
    "rfc = joblib.load('models/RandomForestClassifier.pkl')\n",
    "knn = joblib.load('models/KNeighborsClassifier.pkl')\n",
    "svm = joblib.load('models/SVC.pkl')"
   ]
  },
  {
   "cell_type": "markdown",
   "metadata": {},
   "source": [
    "## Cross-Validated Precision vs Recall"
   ]
  },
  {
   "cell_type": "markdown",
   "metadata": {},
   "source": [
    "### Low Performing Inventory"
   ]
  },
  {
   "cell_type": "code",
   "execution_count": null,
   "metadata": {
    "collapsed": true
   },
   "outputs": [],
   "source": [
    "# Low Performing\n",
    "\n",
    "ml = OrderedDict()\n",
    "\n",
    "ml['Dummy Classifier']       = [0.84196547*100, 0.83421053*100]\n",
    "ml['Gradient Boosting']      = [0.87303023*100, 0.78884306*100]\n",
    "ml['Random Forest']          = [0.88455019*100, 0.72500491*100]\n",
    "ml['Logistic Regression']    = [0.89019844*100, 0.54881163*100]\n",
    "ml['K-Neighbors']            = [0.89732221*100, 0.42427814*100]\n",
    "ml['Support Vector Machine'] = [0.89167722*100, 0.45983107*100]\n",
    "\n",
    "\n",
    "precision_recall = pd.DataFrame(data=list(ml.values()), \n",
    "                                index=ml.keys(),\n",
    "                                columns=['Precision', 'Recall'])\n",
    "\n",
    "fig, ax = plt.subplots()\n",
    "\n",
    "colorlist = ['steelblue', 'navy', 'green', 'darkorange', 'purple', 'teal']\n",
    "\n",
    "for i, l in enumerate(ml):\n",
    "    precision_recall.iloc[[i]].plot(x='Recall', y='Precision', kind='scatter',\n",
    "                                    figsize=(8, 6), ax=ax, s=90, label=l,\n",
    "                                    color=colorlist[i], grid=True\n",
    "                                   )\n",
    "\n",
    "\n",
    "plt.title('Low Performing Inventory', fontsize=18)\n",
    "\n",
    "plt.xlabel('Recall (%)', fontsize=16)\n",
    "plt.ylabel('Precision (%)', fontsize=16)\n",
    "\n",
    "plt.legend(prop={'size': 11.5})\n",
    "\n",
    "display(precision_recall)"
   ]
  },
  {
   "cell_type": "markdown",
   "metadata": {},
   "source": [
    "### Moderate Performing Inventory"
   ]
  },
  {
   "cell_type": "code",
   "execution_count": null,
   "metadata": {
    "collapsed": true
   },
   "outputs": [],
   "source": [
    "# Moderate Performing\n",
    "\n",
    "ml = OrderedDict()\n",
    "\n",
    "ml['Dummy Classifier']       = [0.07792208*100, 0.08823529*100]\n",
    "ml['Gradient Boosting']      = [0.1231829*100,  0.23290598*100]\n",
    "ml['Random Forest']          = [0.14509166*100, 0.36324786*100]\n",
    "ml['Logistic Regression']    = [0.1235066*100,  0.40811966*100]\n",
    "ml['K-Neighbors']            = [0.10427687*100, 0.46367521*100]\n",
    "ml['Support Vector Machine'] = [0.11433255*100, 0.42948718*100]\n",
    "\n",
    "\n",
    "precision_recall = pd.DataFrame(data=list(ml.values()), \n",
    "                                index=ml.keys(),\n",
    "                                columns=['Precision', 'Recall'])\n",
    "\n",
    "fig, ax = plt.subplots()\n",
    "\n",
    "colorlist = ['steelblue', 'navy', 'green', 'darkorange', 'purple', 'teal']\n",
    "\n",
    "for i, l in enumerate(ml):\n",
    "    precision_recall.iloc[[i]].plot(x='Recall', y='Precision', kind='scatter',\n",
    "                                    figsize=(8, 6), ax=ax, s=90, label=l,\n",
    "                                    color=colorlist[i], grid=True\n",
    "                                   )\n",
    "\n",
    "\n",
    "plt.title('Moderate Performing Inventory', fontsize=18)\n",
    "\n",
    "plt.xlabel('Recall (%)', fontsize=16)\n",
    "plt.ylabel('Precision (%)', fontsize=16)\n",
    "\n",
    "plt.legend(prop={'size': 11.5}, loc=8)\n",
    "\n",
    "display(precision_recall)"
   ]
  },
  {
   "cell_type": "markdown",
   "metadata": {},
   "source": [
    "### High Performing Inventory"
   ]
  },
  {
   "cell_type": "code",
   "execution_count": null,
   "metadata": {
    "collapsed": true,
    "scrolled": false
   },
   "outputs": [],
   "source": [
    "# High Performing\n",
    "\n",
    "ml = OrderedDict()\n",
    "\n",
    "ml['Dummy Classifier']       = [0.04697987*100, 0.04575163*100]\n",
    "ml['Gradient Boosting']      = [0.2274354*100,  0.2611465*100]\n",
    "ml['Random Forest']          = [0.23099078*100, 0.33333333*100]\n",
    "ml['Logistic Regression']    = [0.17903869*100, 0.51167728*100]\n",
    "ml['K-Neighbors']            = [0.15855865*100, 0.51804671*100]\n",
    "ml['Support Vector Machine'] = [0.15914071*100, 0.54564756*100]\n",
    "\n",
    "\n",
    "precision_recall = pd.DataFrame(data=list(ml.values()), \n",
    "                                index=ml.keys(),\n",
    "                                columns=['Precision', 'Recall'])\n",
    "\n",
    "fig, ax = plt.subplots()\n",
    "\n",
    "colorlist = ['steelblue', 'navy', 'green', 'darkorange', 'purple', 'teal']\n",
    "\n",
    "for i, l in enumerate(ml):\n",
    "    precision_recall.iloc[[i]].plot(x='Recall', y='Precision', kind='scatter',\n",
    "                                    figsize=(8, 6), ax=ax, s=90, label=l,\n",
    "                                    color=colorlist[i], grid=True\n",
    "                                   )\n",
    "\n",
    "\n",
    "plt.title('High Performing Inventory', fontsize=18)\n",
    "\n",
    "plt.xlabel('Recall (%)', fontsize=16)\n",
    "plt.ylabel('Precision (%)', fontsize=16)\n",
    "\n",
    "\n",
    "plt.legend(prop={'size': 11.5}, loc=4)\n",
    "\n",
    "display(precision_recall)"
   ]
  },
  {
   "cell_type": "markdown",
   "metadata": {},
   "source": [
    "## Precision vs Recall"
   ]
  },
  {
   "cell_type": "markdown",
   "metadata": {},
   "source": [
    "### Logistic Regression"
   ]
  },
  {
   "cell_type": "code",
   "execution_count": null,
   "metadata": {
    "collapsed": true
   },
   "outputs": [],
   "source": [
    "# Moderate Performing\n",
    "\n",
    "pos_label = 1\n",
    "\n",
    "precision, recall, thresholds = precision_recall_curve(y_test,\n",
    "                   log.predict_proba(X_test)[:, pos_label],\n",
    "                   pos_label=pos_label)\n",
    "\n",
    "precision_recall = pd.DataFrame(data={'Precision': precision,\n",
    "                                      'Recall': recall,\n",
    "                                      'Threshold': np.append(thresholds, [1.0])})\n",
    "\n",
    "precision_recall[['Precision', 'Recall']] = \\\n",
    "          precision_recall.apply(lambda df: df[['Precision', 'Recall']]*100, axis=1)\n",
    "\n",
    "fig, ax = plt.subplots()\n",
    "\n",
    "precision_recall.plot(x='Recall', y='Precision', kind='line',\n",
    "                      figsize=(8, 6), ax=ax, color='darkorange',\n",
    "                      grid=True)\n",
    "\n",
    "# cross-validated score\n",
    "plt.plot(40.811966, 12.350660, 'o', color='darkorange')\n",
    "\n",
    "plt.title('Moderate Performing Inventory', fontsize=18)\n",
    "\n",
    "plt.xlabel('Recall (%)', fontsize=16)\n",
    "plt.ylabel('Precision (%)', fontsize=16)\n",
    "\n",
    "\n",
    "plt.legend(['Logistic Regression',\n",
    "            'Logistic Regression CV'],\n",
    "           prop={'size': 11.5}, loc=1)"
   ]
  },
  {
   "cell_type": "code",
   "execution_count": null,
   "metadata": {
    "collapsed": true,
    "scrolled": false
   },
   "outputs": [],
   "source": [
    "# High Performing\n",
    "\n",
    "pos_label = 2\n",
    "\n",
    "precision, recall, thresholds = precision_recall_curve(y_test,\n",
    "                   log.predict_proba(X_test)[:, pos_label],\n",
    "                   pos_label=pos_label)\n",
    "\n",
    "precision_recall = pd.DataFrame(data={'Precision': precision,\n",
    "                                      'Recall': recall,\n",
    "                                      'Threshold': np.append(thresholds, [1.0])})\n",
    "\n",
    "precision_recall[['Precision', 'Recall']] = \\\n",
    "          precision_recall.apply(lambda df: df[['Precision', 'Recall']]*100, axis=1)\n",
    "\n",
    "fig, ax = plt.subplots()\n",
    "\n",
    "precision_recall.plot(x='Recall', y='Precision', kind='line',\n",
    "                      figsize=(8, 6), ax=ax, color='darkorange',\n",
    "                      grid=True)\n",
    "\n",
    "# cross-validated score\n",
    "plt.plot(51.167728, 17.903869, 'o', color='darkorange')\n",
    "\n",
    "plt.title('High Performing Inventory', fontsize=18)\n",
    "\n",
    "plt.xlabel('Recall (%)', fontsize=16)\n",
    "plt.ylabel('Precision (%)', fontsize=16)\n",
    "\n",
    "\n",
    "plt.legend(['Logistic Regression',\n",
    "            'Logistic Regression CV'],\n",
    "           prop={'size': 11.5}, loc=1)"
   ]
  },
  {
   "cell_type": "markdown",
   "metadata": {},
   "source": [
    "### Gradient Boosting Classifier"
   ]
  },
  {
   "cell_type": "code",
   "execution_count": null,
   "metadata": {
    "collapsed": true
   },
   "outputs": [],
   "source": [
    "# Moderate Performing\n",
    "\n",
    "pos_label = 1\n",
    "\n",
    "precision, recall, thresholds = precision_recall_curve(y_test,\n",
    "                   gbc.predict_proba(X_test)[:, pos_label],\n",
    "                   pos_label=pos_label)\n",
    "\n",
    "precision_recall = pd.DataFrame(data={'Precision': precision,\n",
    "                                      'Recall': recall,\n",
    "                                      'Threshold': np.append(thresholds, [1.0])})\n",
    "\n",
    "precision_recall[['Precision', 'Recall']] = \\\n",
    "          precision_recall.apply(lambda df: df[['Precision', 'Recall']]*100, axis=1)\n",
    "\n",
    "fig, ax = plt.subplots()\n",
    "\n",
    "precision_recall.plot(x='Recall', y='Precision', kind='line',\n",
    "                      figsize=(8, 6), ax=ax, color='navy',\n",
    "                      grid=True)\n",
    "\n",
    "# cross-validated score\n",
    "plt.plot(23.290598, 12.318290, 'o', color='navy')\n",
    "\n",
    "plt.title('Moderate Performing Inventory', fontsize=18)\n",
    "\n",
    "plt.xlabel('Recall (%)', fontsize=16)\n",
    "plt.ylabel('Precision (%)', fontsize=16)\n",
    "\n",
    "\n",
    "plt.legend(['Gradient Boosting',\n",
    "            'Gradient Boosting CV'],\n",
    "           prop={'size': 11.5}, loc=1)"
   ]
  },
  {
   "cell_type": "code",
   "execution_count": null,
   "metadata": {
    "collapsed": true
   },
   "outputs": [],
   "source": [
    "# High Performing\n",
    "\n",
    "pos_label = 2\n",
    "\n",
    "precision, recall, thresholds = precision_recall_curve(y_test,\n",
    "                   gbc.predict_proba(X_test)[:, pos_label],\n",
    "                   pos_label=pos_label)\n",
    "\n",
    "precision_recall = pd.DataFrame(data={'Precision': precision,\n",
    "                                      'Recall': recall,\n",
    "                                      'Threshold': np.append(thresholds, [1.0])})\n",
    "\n",
    "precision_recall[['Precision', 'Recall']] = \\\n",
    "          precision_recall.apply(lambda df: df[['Precision', 'Recall']]*100, axis=1)\n",
    "\n",
    "fig, ax = plt.subplots()\n",
    "\n",
    "precision_recall.plot(x='Recall', y='Precision', kind='line',\n",
    "                      figsize=(8, 6), ax=ax, color='navy',\n",
    "                      grid=True)\n",
    "\n",
    "# cross-validated score\n",
    "plt.plot(26.114650, 22.743540, 'o', color='navy')\n",
    "\n",
    "plt.title('High Performing Inventory', fontsize=18)\n",
    "\n",
    "plt.xlabel('Recall (%)', fontsize=16)\n",
    "plt.ylabel('Precision (%)', fontsize=16)\n",
    "\n",
    "\n",
    "plt.legend(['Gradient Boosting',\n",
    "            'Gradient Boosting CV'],\n",
    "           prop={'size': 11.5}, loc=1)"
   ]
  },
  {
   "cell_type": "markdown",
   "metadata": {},
   "source": [
    "### Random Forrest Classifier"
   ]
  },
  {
   "cell_type": "code",
   "execution_count": null,
   "metadata": {
    "collapsed": true
   },
   "outputs": [],
   "source": [
    "# Moderate Performing\n",
    "\n",
    "pos_label = 1\n",
    "\n",
    "precision, recall, thresholds = precision_recall_curve(y_test,\n",
    "                   rfc.predict_proba(X_test)[:, pos_label],\n",
    "                   pos_label=pos_label)\n",
    "\n",
    "precision_recall = pd.DataFrame(data={'Precision': precision,\n",
    "                                      'Recall': recall,\n",
    "                                      'Threshold': np.append(thresholds, [1.0])})\n",
    "\n",
    "precision_recall[['Precision', 'Recall']] = \\\n",
    "          precision_recall.apply(lambda df: df[['Precision', 'Recall']]*100, axis=1)\n",
    "\n",
    "fig, ax = plt.subplots()\n",
    "\n",
    "precision_recall.plot(x='Recall', y='Precision', kind='line',\n",
    "                      figsize=(8, 6), ax=ax, color='green',\n",
    "                      grid=True)\n",
    "\n",
    "# cross-validated score\n",
    "plt.plot(36.324786, 14.509166, 'o', color='green')\n",
    "\n",
    "plt.title('Moderate Performing Inventory', fontsize=18)\n",
    "\n",
    "plt.xlabel('Recall (%)', fontsize=16)\n",
    "plt.ylabel('Precision (%)', fontsize=16)\n",
    "\n",
    "\n",
    "plt.legend(['Random Forest',\n",
    "            'Random Forest CV'],\n",
    "           prop={'size': 11.5}, loc=1)"
   ]
  },
  {
   "cell_type": "code",
   "execution_count": null,
   "metadata": {
    "collapsed": true
   },
   "outputs": [],
   "source": [
    "# High Performing\n",
    "\n",
    "pos_label = 2\n",
    "\n",
    "precision, recall, thresholds = precision_recall_curve(y_test,\n",
    "                   rfc.predict_proba(X_test)[:, pos_label],\n",
    "                   pos_label=pos_label)\n",
    "\n",
    "precision_recall = pd.DataFrame(data={'Precision': precision,\n",
    "                                      'Recall': recall,\n",
    "                                      'Threshold': np.append(thresholds, [1.0])})\n",
    "\n",
    "precision_recall[['Precision', 'Recall']] = \\\n",
    "          precision_recall.apply(lambda df: df[['Precision', 'Recall']]*100, axis=1)\n",
    "\n",
    "fig, ax = plt.subplots()\n",
    "\n",
    "precision_recall.plot(x='Recall', y='Precision', kind='line',\n",
    "                      figsize=(8, 6), ax=ax, color='green',\n",
    "                      grid=True)\n",
    "\n",
    "# cross-validated score\n",
    "plt.plot(33.333333, 23.099078, 'o', color='green')\n",
    "\n",
    "plt.title('High Performing Inventory', fontsize=18)\n",
    "\n",
    "plt.xlabel('Recall (%)', fontsize=16)\n",
    "plt.ylabel('Precision (%)', fontsize=16)\n",
    "\n",
    "\n",
    "plt.legend(['Random Forest',\n",
    "            'Random Forest CV'],\n",
    "           prop={'size': 11.5}, loc=1)"
   ]
  },
  {
   "cell_type": "markdown",
   "metadata": {},
   "source": [
    "### K-Neighbors Classifier"
   ]
  },
  {
   "cell_type": "code",
   "execution_count": null,
   "metadata": {
    "collapsed": true
   },
   "outputs": [],
   "source": [
    "# Moderate Performing\n",
    "\n",
    "pos_label = 1\n",
    "\n",
    "precision, recall, thresholds = precision_recall_curve(y_test,\n",
    "                   knn.predict_proba(X_test)[:, pos_label],\n",
    "                   pos_label=pos_label)\n",
    "\n",
    "precision_recall = pd.DataFrame(data={'Precision': precision,\n",
    "                                      'Recall': recall,\n",
    "                                      'Threshold': np.append(thresholds, [1.0])})\n",
    "\n",
    "precision_recall[['Precision', 'Recall']] = \\\n",
    "          precision_recall.apply(lambda df: df[['Precision', 'Recall']]*100, axis=1)\n",
    "\n",
    "fig, ax = plt.subplots()\n",
    "\n",
    "precision_recall.plot(x='Recall', y='Precision', kind='line',\n",
    "                      figsize=(8, 6), ax=ax, color='purple',\n",
    "                      grid=True)\n",
    "\n",
    "# cross-validated score\n",
    "plt.plot(46.367521, 10.427687, 'o', color='purple')\n",
    "\n",
    "plt.title('Moderate Performing Inventory', fontsize=18)\n",
    "\n",
    "plt.xlabel('Recall (%)', fontsize=16)\n",
    "plt.ylabel('Precision (%)', fontsize=16)\n",
    "\n",
    "\n",
    "plt.legend(['KNeighbors',\n",
    "            'KNeighbors CV'],\n",
    "           prop={'size': 11.5}, loc=1)"
   ]
  },
  {
   "cell_type": "code",
   "execution_count": null,
   "metadata": {
    "collapsed": true
   },
   "outputs": [],
   "source": [
    "# High Performing\n",
    "\n",
    "pos_label = 2\n",
    "\n",
    "precision, recall, thresholds = precision_recall_curve(y_test,\n",
    "                   knn.predict_proba(X_test)[:, pos_label],\n",
    "                   pos_label=pos_label)\n",
    "\n",
    "precision_recall = pd.DataFrame(data={'Precision': precision,\n",
    "                                      'Recall': recall,\n",
    "                                      'Threshold': np.append(thresholds, [1.0])})\n",
    "\n",
    "precision_recall[['Precision', 'Recall']] = \\\n",
    "          precision_recall.apply(lambda df: df[['Precision', 'Recall']]*100, axis=1)\n",
    "\n",
    "fig, ax = plt.subplots()\n",
    "\n",
    "precision_recall.plot(x='Recall', y='Precision', kind='line',\n",
    "                      figsize=(8, 6), ax=ax, color='purple',\n",
    "                      grid=True)\n",
    "\n",
    "# cross-validated score\n",
    "plt.plot(51.804671, 15.855865, 'o', color='purple')\n",
    "\n",
    "plt.title('High Performing Inventory', fontsize=18)\n",
    "\n",
    "plt.xlabel('Recall (%)', fontsize=16)\n",
    "plt.ylabel('Precision (%)', fontsize=16)\n",
    "\n",
    "\n",
    "plt.legend(['KNeighbors',\n",
    "            'KNeighbors CV'],\n",
    "           prop={'size': 11.5}, loc=1)"
   ]
  },
  {
   "cell_type": "markdown",
   "metadata": {},
   "source": [
    "### Support Vector Machine Classifier"
   ]
  },
  {
   "cell_type": "code",
   "execution_count": null,
   "metadata": {
    "collapsed": true
   },
   "outputs": [],
   "source": [
    "# Moderate Performing\n",
    "\n",
    "pos_label = 1\n",
    "\n",
    "precision, recall, thresholds = precision_recall_curve(y_test,\n",
    "                   svm.predict_proba(X_test)[:, pos_label],\n",
    "                   pos_label=pos_label)\n",
    "\n",
    "precision_recall = pd.DataFrame(data={'Precision': precision,\n",
    "                                      'Recall': recall,\n",
    "                                      'Threshold': np.append(thresholds, [1.0])})\n",
    "\n",
    "precision_recall[['Precision', 'Recall']] = \\\n",
    "          precision_recall.apply(lambda df: df[['Precision', 'Recall']]*100, axis=1)\n",
    "\n",
    "fig, ax = plt.subplots()\n",
    "\n",
    "precision_recall.plot(x='Recall', y='Precision', kind='line',\n",
    "                      figsize=(8, 6), ax=ax, color='teal',\n",
    "                      grid=True)\n",
    "\n",
    "# cross-validated score\n",
    "plt.plot(42.948718, 11.433255, 'o', color='teal')\n",
    "\n",
    "plt.title('Moderate Performing Inventory', fontsize=18)\n",
    "\n",
    "plt.xlabel('Recall (%)', fontsize=16)\n",
    "plt.ylabel('Precision (%)', fontsize=16)\n",
    "\n",
    "\n",
    "plt.legend(['Support Vector Machine',\n",
    "            'Support Vector Machine CV'],\n",
    "           prop={'size': 11.5}, loc=1)"
   ]
  },
  {
   "cell_type": "code",
   "execution_count": null,
   "metadata": {
    "collapsed": true,
    "scrolled": false
   },
   "outputs": [],
   "source": [
    "# High Performing\n",
    "\n",
    "pos_label = 2\n",
    "\n",
    "precision, recall, thresholds = precision_recall_curve(y_test,\n",
    "                   svm.predict_proba(X_test)[:, pos_label],\n",
    "                   pos_label=pos_label)\n",
    "\n",
    "precision_recall = pd.DataFrame(data={'Precision': precision,\n",
    "                                      'Recall': recall,\n",
    "                                      'Threshold': np.append(thresholds, [1.0])})\n",
    "\n",
    "precision_recall[['Precision', 'Recall']] = \\\n",
    "          precision_recall.apply(lambda df: df[['Precision', 'Recall']]*100, axis=1)\n",
    "\n",
    "fig, ax = plt.subplots()\n",
    "\n",
    "precision_recall.plot(x='Recall', y='Precision', kind='line',\n",
    "                      figsize=(8, 6), ax=ax, color='teal',\n",
    "                      grid=True)\n",
    "\n",
    "# cross-validated score\n",
    "plt.plot(54.564756, 15.914071, 'o', color='teal')\n",
    "\n",
    "plt.title('High Performing Inventory', fontsize=18)\n",
    "\n",
    "plt.xlabel('Recall (%)', fontsize=16)\n",
    "plt.ylabel('Precision (%)', fontsize=16)\n",
    "\n",
    "\n",
    "plt.legend(['Support Vector Machine',\n",
    "            'Support Vector Machine CV'],\n",
    "           prop={'size': 11.5}, loc=1)"
   ]
  },
  {
   "cell_type": "markdown",
   "metadata": {},
   "source": [
    "## Learning Curves"
   ]
  },
  {
   "cell_type": "code",
   "execution_count": null,
   "metadata": {
    "collapsed": true,
    "scrolled": false
   },
   "outputs": [],
   "source": [
    "# Learning curve title\n",
    "title = \"Learning Curves (Logistic Regression)\"\n",
    "\n",
    "# Load model\n",
    "log = joblib.load('models/LogisticRegression.pkl')\n",
    "\n",
    "pipe = make_pipeline(ros, scaler, log)\n",
    "\n",
    "plot_learning_curve(pipe, title, X, y, ylim=(-0.20, -1.30), \n",
    "                    cv=None, scoring='neg_log_loss', n_jobs=-1)"
   ]
  },
  {
   "cell_type": "markdown",
   "metadata": {},
   "source": [
    "## Feature Importance"
   ]
  },
  {
   "cell_type": "code",
   "execution_count": null,
   "metadata": {
    "collapsed": true,
    "scrolled": false
   },
   "outputs": [],
   "source": [
    "# Load model\n",
    "log = joblib.load('models/LogisticRegression.pkl')\n",
    "\n",
    "log_coeff = pd.DataFrame(data=log.best_estimator_._final_estimator.coef_,\n",
    "                         index=[0, 1, 2], columns=X.columns)"
   ]
  },
  {
   "cell_type": "code",
   "execution_count": null,
   "metadata": {
    "collapsed": true,
    "scrolled": false
   },
   "outputs": [],
   "source": [
    "top_n = 5\n",
    "\n",
    "pos_class = 1\n",
    "reference_class = 0\n",
    "\n",
    "pos_class_log = log_coeff.iloc[[pos_class]]\n",
    "\n",
    "reference_class_log = log_coeff.iloc[[reference_class]]\\\n",
    "                                .rename(index={reference_class: pos_class})\n",
    "\n",
    "k_class_log = (pos_class_log - reference_class_log)\\\n",
    "              .sort_values(by=[pos_class], axis=1,\n",
    "                           ascending=False).transpose()\n",
    "\n",
    "k_class = k_class_log.rename({'brand_fausto puglisi': 'fausto puglisi',\n",
    "                              'brand_zimmermann': 'zimmermann',\n",
    "                              'brand_naven': 'naven',\n",
    "                              'brand_igigi': 'igigi', \n",
    "                              'rent_per_week': 'rental price'\n",
    "                          })\n",
    "\n",
    "ax = k_class.head(top_n).plot(kind='barh')\n",
    "\n",
    "plt.title('Feature Importance (Moderate)', fontsize=16)\n",
    "\n",
    "plt.xlabel('Logarithmic Loss Coefficients', fontsize=14)\n",
    "\n",
    "plt.gca().invert_yaxis()\n",
    "\n",
    "rng = [float(x)/100 for x in range(0, 30, 5)]\n",
    "\n",
    "ax.set_xticklabels(rng, rotation=0, fontsize=13)\n",
    "ax.set_yticklabels(k_class.index, rotation=0, fontsize=13)\n",
    "\n",
    "ax.legend_.remove()\n",
    "\n",
    "display(k_class.head(top_n))\n",
    "\n",
    "display(k_class.loc[['size', 'rental price'], :])"
   ]
  },
  {
   "cell_type": "code",
   "execution_count": null,
   "metadata": {
    "collapsed": true
   },
   "outputs": [],
   "source": [
    "top_n = 5\n",
    "\n",
    "pos_class = 2\n",
    "reference_class = 0\n",
    "\n",
    "pos_class_log = log_coeff.iloc[[pos_class]]\n",
    "\n",
    "reference_class_log = log_coeff.iloc[[reference_class]]\\\n",
    "                               .rename(index={reference_class: pos_class})\n",
    "\n",
    "k_class_log = (pos_class_log - reference_class_log)\\\n",
    "              .sort_values(by=[pos_class], axis=1,\n",
    "                           ascending=False).transpose()\n",
    "\n",
    "k_class = k_class_log.rename({'brand_for love & lemons': 'for love & lemons',\n",
    "                              'brand_self-portrait': 'self-portrait',\n",
    "                              'brand_zimmermann': 'zimmermann',\n",
    "                              'brand_coach': 'coach', \n",
    "                              'rent_per_week': 'rental price'\n",
    "                          })\n",
    "\n",
    "ax = k_class.head(top_n).plot(kind='barh')\n",
    "\n",
    "plt.title('Feature Importance (Moderate)', fontsize=16)\n",
    "\n",
    "plt.xlabel('Logarithmic Loss Coefficients', fontsize=14)\n",
    "\n",
    "plt.gca().invert_yaxis()\n",
    "\n",
    "rng = [float(x)/100 for x in range(0, 30, 5)]\n",
    "\n",
    "ax.set_xticklabels(rng, rotation=0, fontsize=13)\n",
    "ax.set_yticklabels(k_class.index, rotation=0, fontsize=13)\n",
    "\n",
    "ax.legend_.remove()\n",
    "\n",
    "display(k_class.head(top_n))\n",
    "\n",
    "display(k_class.loc[['size', 'rental price'], :])"
   ]
  },
  {
   "cell_type": "code",
   "execution_count": null,
   "metadata": {
    "collapsed": true
   },
   "outputs": [],
   "source": [
    "top_n = 5\n",
    "\n",
    "pos_class = 2\n",
    "reference_class = 1\n",
    "\n",
    "pos_class_log = log_coeff.iloc[[pos_class]]\n",
    "\n",
    "reference_class_log = log_coeff.iloc[[reference_class]]\\\n",
    "                               .rename(index={reference_class: pos_class})\n",
    "\n",
    "k_class_log = (pos_class_log - reference_class_log)\\\n",
    "              .sort_values(by=[pos_class], axis=1,\n",
    "                           ascending=False).transpose()\n",
    "\n",
    "k_class = k_class_log.rename({'brand_self-portrait': 'self-portrait',\n",
    "                              'brand_for love & lemons': 'for love & lemons',\n",
    "                              'brand_lovers + friends': 'lovers + friends',\n",
    "                              'brand_katya lee': 'katya lee', \n",
    "                              'brand_jill stuart': 'jill stuart',\n",
    "                              'rent_per_week': 'rental price'\n",
    "                          })\n",
    "\n",
    "ax = k_class.head(top_n).plot(kind='barh')\n",
    "\n",
    "plt.title('Feature Importance (Moderate)', fontsize=16)\n",
    "\n",
    "plt.xlabel('Logarithmic Loss Coefficients', fontsize=14)\n",
    "\n",
    "plt.gca().invert_yaxis()\n",
    "\n",
    "rng = [float(x)/100 for x in range(0, 30, 5)]\n",
    "\n",
    "ax.set_xticklabels(rng, rotation=0, fontsize=13)\n",
    "ax.set_yticklabels(k_class.index, rotation=0, fontsize=13)\n",
    "\n",
    "ax.legend_.remove()\n",
    "\n",
    "display(k_class.head(top_n))\n",
    "\n",
    "display(k_class.loc[['size', 'rental price'], :])"
   ]
  },
  {
   "cell_type": "markdown",
   "metadata": {},
   "source": [
    "## Log Loss"
   ]
  },
  {
   "cell_type": "code",
   "execution_count": null,
   "metadata": {
    "collapsed": true,
    "scrolled": false
   },
   "outputs": [],
   "source": [
    "ml = OrderedDict()\n",
    "\n",
    "ml['Dummy Classifier']       = 9.45090896378153\n",
    "ml['Gradient Boosting']      = 0.7208726039328565\n",
    "ml['Random Forest']          = 0.8380180430141219\n",
    "ml['Logistic Regression']    = 1.062011157653542\n",
    "ml['KNeighbors']             = 2.3032902858403044\n",
    "ml['Support Vector Machine'] = 1.007301550578533\n",
    "\n",
    "\n",
    "logloss = pd.DataFrame(data=list(ml.values()), index=ml.keys(), \n",
    "                       columns=['log loss'])\n",
    "\n",
    "ax = logloss.plot(kind='barh', figsize=(8, 6), grid=True)\n",
    "\n",
    "plt.title('Logarithmic Loss', fontsize=18)\n",
    "\n",
    "plt.xlabel('Log Loss', fontsize=16)\n",
    "\n",
    "ax.set_xticklabels(list(range(0, 12, 2)), rotation=0, fontsize=12)\n",
    "ax.set_yticklabels(ml.keys(), rotation=0, fontsize=12)\n",
    "\n",
    "ax.legend_.remove()\n",
    "\n",
    "display(logloss)"
   ]
  }
 ],
 "metadata": {
  "kernelspec": {
   "display_name": "Python 3",
   "language": "python",
   "name": "python3"
  },
  "language_info": {
   "codemirror_mode": {
    "name": "ipython",
    "version": 3
   },
   "file_extension": ".py",
   "mimetype": "text/x-python",
   "name": "python",
   "nbconvert_exporter": "python",
   "pygments_lexer": "ipython3",
   "version": "3.6.1"
  }
 },
 "nbformat": 4,
 "nbformat_minor": 2
}
