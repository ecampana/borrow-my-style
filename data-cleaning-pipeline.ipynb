{
 "cells": [
  {
   "cell_type": "markdown",
   "metadata": {},
   "source": [
    "# Data Cleaning Pipeline\n",
    "\n",
    "**Notebook: Emmanuel Contreras-Campana, Ph.D.**\n",
    "\n",
    "This notebook outlines the data cleaning and transformations that were performed on the client company's data for the purposes of the analysis."
   ]
  },
  {
   "cell_type": "markdown",
   "metadata": {},
   "source": [
    "## Load Libraries"
   ]
  },
  {
   "cell_type": "code",
   "execution_count": 1,
   "metadata": {
    "collapsed": true
   },
   "outputs": [],
   "source": [
    "# Import common python library\n",
    "import os\n",
    "import psycopg2\n",
    "import pandas as pd\n",
    "\n",
    "# Import urlib library\n",
    "from urllib import parse\n",
    "\n",
    "# Import sqlalchemy library\n",
    "from sqlalchemy import create_engine\n",
    "from sqlalchemy_utils import database_exists, create_database\n",
    "\n",
    "# Import user created library\n",
    "from dskit import *"
   ]
  },
  {
   "cell_type": "markdown",
   "metadata": {},
   "source": [
    "# Connect to PostgreSQL"
   ]
  },
  {
   "cell_type": "code",
   "execution_count": 2,
   "metadata": {
    "collapsed": true
   },
   "outputs": [],
   "source": [
    "parse.uses_netloc.append('postgres')\n",
    "\n",
    "path_1 = 'URL PATH PART 1'\n",
    "path_2 ='URL PATH PART 2'\n",
    "\n",
    "url = parse.urlparse(path_1+path_2)\n",
    "\n",
    "# set up the connection\n",
    "dbname = url.path[1:]\n",
    "username = url.username\n",
    "password = url.password\n",
    "host = url.hostname\n",
    "port = url.port\n",
    "\n",
    "con = psycopg2.connect(database=dbname, user=username, \n",
    "                       password=password, host=host, port=port)"
   ]
  },
  {
   "cell_type": "markdown",
   "metadata": {},
   "source": [
    "# Load Data\n",
    "\n",
    "The data is stored on a Heroku PostgreSQL database which we ingest into this notebook and proceed to explore it."
   ]
  },
  {
   "cell_type": "code",
   "execution_count": 3,
   "metadata": {
    "collapsed": true
   },
   "outputs": [],
   "source": [
    "# items sql table\n",
    "sql_query = \"\"\"\n",
    "SELECT *\n",
    "FROM items\n",
    "\"\"\"\n",
    "\n",
    "items = pd.read_sql_query(sql_query, con)"
   ]
  },
  {
   "cell_type": "code",
   "execution_count": 4,
   "metadata": {
    "collapsed": true
   },
   "outputs": [],
   "source": [
    "# rental_items sql table\n",
    "sql_query = \"\"\"\n",
    "SELECT *\n",
    "FROM rental_items\n",
    "\"\"\"\n",
    "\n",
    "rental_items = pd.read_sql_query(sql_query, con)"
   ]
  },
  {
   "cell_type": "markdown",
   "metadata": {},
   "source": [
    "### Drop Irrelevant Features\n",
    "\n",
    "We drop all columns that are not relevant for identifying inventory trends."
   ]
  },
  {
   "cell_type": "code",
   "execution_count": 5,
   "metadata": {
    "collapsed": true
   },
   "outputs": [],
   "source": [
    "items.drop(['title', 'description','main_image_id', 'updated_at',\n",
    "            'main_image_id', 'user_id', 'slug', 'sku', 'fit_description',\n",
    "            'removed', 'maintenance', 'approved', 'approved_by_id',\n",
    "            'approved_at', 'year_purchased', 'listing_type', 'neighborhood',\n",
    "            'delivery_option', 'promoted', 'status', 'time_zone', 'rack',\n",
    "            'slot', 'review_count', 'review_rating', 'review_fit',\n",
    "            'admin_notes', 'purchased_fake', 'photo_status',\n",
    "            'condition', 'model', 'for_sale', 'sale_price',\n",
    "            'only_for_sale', 'oversized', 'virtual_try_url',\n",
    "            'designer_id'], axis=1, inplace=True)"
   ]
  },
  {
   "cell_type": "code",
   "execution_count": 6,
   "metadata": {
    "collapsed": true
   },
   "outputs": [],
   "source": [
    "rental_items.drop(['id', 'status', 'created_at', 'updated_at', 'fit_return',\n",
    "                   'refunded', 'fit_return_reason', 'fit_return_notes'],\n",
    "                  axis=1, inplace=True)"
   ]
  },
  {
   "cell_type": "code",
   "execution_count": 7,
   "metadata": {
    "collapsed": true,
    "scrolled": false
   },
   "outputs": [],
   "source": [
    "# Rename rent_per_week to rental_price\n",
    "\n",
    "items.rename({'rent_per_week': 'rental_price'}, axis='columns', inplace=True)"
   ]
  },
  {
   "cell_type": "markdown",
   "metadata": {},
   "source": [
    "### Produce Orders Table\n",
    "\n",
    "We join the items table to the rental items tables to have a more meaningful table which can be used to explore trends in the fashion items ordered."
   ]
  },
  {
   "cell_type": "code",
   "execution_count": 8,
   "metadata": {
    "collapsed": true
   },
   "outputs": [],
   "source": [
    "orders = rental_items.merge(items, how='left', left_on='item_id',\n",
    "                            right_on='id').drop('id', axis=1)"
   ]
  },
  {
   "cell_type": "markdown",
   "metadata": {},
   "source": [
    "### Rental Counts\n",
    "\n",
    "From the orders table we can determine the rental count of each item. This information can be used, for example, to learn how often an item is rented during its listing lifetime."
   ]
  },
  {
   "cell_type": "code",
   "execution_count": 9,
   "metadata": {
    "collapsed": true
   },
   "outputs": [],
   "source": [
    "# calculate the number of rentals per item\n",
    "\n",
    "rental_count = orders.groupby('item_id',axis=0, as_index=False)\\\n",
    "                     .count().rename(columns={'rental_id':'rental_count'})\n",
    "\n",
    "rental_count = rental_count[['item_id', 'rental_count']]"
   ]
  },
  {
   "cell_type": "markdown",
   "metadata": {},
   "source": [
    "We now include the rental count information to the items table. Some inventory may have been rented out several times while other items may have never been rented out at any point in time."
   ]
  },
  {
   "cell_type": "code",
   "execution_count": 10,
   "metadata": {
    "collapsed": true
   },
   "outputs": [],
   "source": [
    "# merge rental count with items\n",
    "\n",
    "items = items.merge(rental_count, how='left',\n",
    "                    left_on='id', right_on='item_id').drop('item_id', axis=1)\n",
    "\n",
    "# items that were never rented are given a rental count of zero\n",
    "items['rental_count'] = items['rental_count'].fillna(value=0)"
   ]
  },
  {
   "cell_type": "markdown",
   "metadata": {},
   "source": [
    "### Rental Revenue\n",
    "\n",
    "An interesting quantity to have is the rental revenue of each item which may then be used later to evaluate the improvement in company profits to compare to the previous model. "
   ]
  },
  {
   "cell_type": "code",
   "execution_count": 11,
   "metadata": {
    "collapsed": true
   },
   "outputs": [],
   "source": [
    "items['rental_revenue'] = items.apply(lambda df: df['rental_count']*df['rental_price'],\n",
    "                                      axis=1)"
   ]
  },
  {
   "cell_type": "markdown",
   "metadata": {},
   "source": [
    "# Data Cleaning Pipeline\n",
    "\n",
    "The data contains several samples that need to be removed either because there is not enough information for it to be useful or they need to be corrected in one way or another."
   ]
  },
  {
   "cell_type": "code",
   "execution_count": 12,
   "metadata": {
    "collapsed": true,
    "scrolled": false
   },
   "outputs": [],
   "source": [
    "# Remove erroneous samples\n",
    "\n",
    "items = items.query('brand!=\"LENDER SUBMISSION FILL IN\"').copy()\n",
    "\n",
    "items = items.query('rental_price != 999985.0').copy()"
   ]
  },
  {
   "cell_type": "code",
   "execution_count": 13,
   "metadata": {
    "collapsed": true
   },
   "outputs": [],
   "source": [
    "# Correct items with unrealistic rental prices\n",
    "\n",
    "f = lambda df: 0.15*df['cost'] if df['rental_price']==1000000.0 else df['rental_price']\n",
    "\n",
    "items['rental_price'] = items.apply(f, axis=1)"
   ]
  },
  {
   "cell_type": "markdown",
   "metadata": {},
   "source": [
    "In order to determine the lifetime of items we need to know when they were delisted. But most items continue to be rented so in those cases we chose the current date as the date that they were delisted."
   ]
  },
  {
   "cell_type": "code",
   "execution_count": 14,
   "metadata": {
    "collapsed": true
   },
   "outputs": [],
   "source": [
    "# items that have not been removed\n",
    "# receive curent date as removal time\n",
    "\n",
    "items['removed_at'] = items['removed_at'].fillna(value=pd.to_datetime('now'))"
   ]
  },
  {
   "cell_type": "markdown",
   "metadata": {},
   "source": [
    "Brand names are curated to remove any variablity in spellings. This reduced the list of brand names by 30%."
   ]
  },
  {
   "cell_type": "code",
   "execution_count": 15,
   "metadata": {
    "collapsed": true
   },
   "outputs": [],
   "source": [
    "# clean brand names\n",
    "\n",
    "items['brand'] = items['brand'].apply(lambda s: s.lower()).apply(lambda s: s.strip(' '))\\\n",
    "                               .apply(lambda s: s.replace('  ', ' '))\\\n",
    "                               .apply(lambda s: s.replace(u'\\xa0', u' '))\n",
    "\n",
    "items['brand'] = items['brand'].apply(lambda s: brand_names[s] if s in brand_names else s)"
   ]
  },
  {
   "cell_type": "markdown",
   "metadata": {},
   "source": [
    "# Store Final Data"
   ]
  },
  {
   "cell_type": "markdown",
   "metadata": {},
   "source": [
    "The final step of the data cleaning pipeline is storing the results into cvs files for later use."
   ]
  },
  {
   "cell_type": "code",
   "execution_count": 16,
   "metadata": {
    "collapsed": true
   },
   "outputs": [],
   "source": [
    "items.to_csv(path_or_buf='data/items.csv', sep=',', header=True,\n",
    "             index=True, index_label=None, mode='w',\n",
    "             line_terminator='\\n')"
   ]
  },
  {
   "cell_type": "code",
   "execution_count": 17,
   "metadata": {
    "collapsed": true
   },
   "outputs": [],
   "source": [
    "orders.to_csv(path_or_buf='data/orders.csv', sep=',', header=True,\n",
    "             index=True, index_label=None, mode='w',\n",
    "             line_terminator='\\n')"
   ]
  }
 ],
 "metadata": {
  "kernelspec": {
   "display_name": "Python 3",
   "language": "python",
   "name": "python3"
  },
  "language_info": {
   "codemirror_mode": {
    "name": "ipython",
    "version": 3
   },
   "file_extension": ".py",
   "mimetype": "text/x-python",
   "name": "python",
   "nbconvert_exporter": "python",
   "pygments_lexer": "ipython3",
   "version": "3.6.1"
  }
 },
 "nbformat": 4,
 "nbformat_minor": 2
}
