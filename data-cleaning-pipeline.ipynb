{
 "cells": [
  {
   "cell_type": "markdown",
   "metadata": {},
   "source": [
    "# Load Libraries"
   ]
  },
  {
   "cell_type": "code",
   "execution_count": null,
   "metadata": {
    "collapsed": true
   },
   "outputs": [],
   "source": [
    "import os\n",
    "import psycopg2\n",
    "import pandas as pd\n",
    "import seaborn as sns\n",
    "import numpy as np\n",
    "import matplotlib.dates as mdates\n",
    "import matplotlib.pylab\n",
    "import matplotlib.pyplot as plt\n",
    "\n",
    "from urllib import parse\n",
    "from sqlalchemy import create_engine\n",
    "from sqlalchemy_utils import database_exists, create_database\n",
    "\n",
    "% matplotlib inline"
   ]
  },
  {
   "cell_type": "markdown",
   "metadata": {},
   "source": [
    "# Load Brands Mapping"
   ]
  },
  {
   "cell_type": "code",
   "execution_count": null,
   "metadata": {
    "collapsed": true
   },
   "outputs": [],
   "source": [
    "%run -i brands.py"
   ]
  },
  {
   "cell_type": "markdown",
   "metadata": {},
   "source": [
    "# Connect to PostgreSQL"
   ]
  },
  {
   "cell_type": "code",
   "execution_count": null,
   "metadata": {
    "collapsed": true
   },
   "outputs": [],
   "source": [
    "parse.uses_netloc.append('postgres')\n",
    "\n",
    "path_1 = 'URL PATH PART 1'\n",
    "path_2 ='URL PATH PART 2'\n",
    "\n",
    "url = parse.urlparse(path_1+path_2)\n",
    "\n",
    "# set up the connection\n",
    "dbname = url.path[1:]\n",
    "username = url.username\n",
    "password = url.password\n",
    "host = url.hostname\n",
    "port = url.port\n",
    "\n",
    "con = psycopg2.connect(database=dbname, user=username, \n",
    "                       password=password, host=host, port=port)"
   ]
  },
  {
   "cell_type": "markdown",
   "metadata": {},
   "source": [
    "# Load Data"
   ]
  },
  {
   "cell_type": "code",
   "execution_count": null,
   "metadata": {
    "collapsed": true
   },
   "outputs": [],
   "source": [
    "# items sql table\n",
    "sql_query = \"\"\"\n",
    "SELECT *\n",
    "FROM items\n",
    "\"\"\"\n",
    "\n",
    "items = pd.read_sql_query(sql_query, con)"
   ]
  },
  {
   "cell_type": "code",
   "execution_count": null,
   "metadata": {
    "collapsed": true
   },
   "outputs": [],
   "source": [
    "# rental_items sql table\n",
    "sql_query = \"\"\"\n",
    "SELECT *\n",
    "FROM rental_items\n",
    "\"\"\"\n",
    "\n",
    "rental_items = pd.read_sql_query(sql_query, con)"
   ]
  },
  {
   "cell_type": "markdown",
   "metadata": {},
   "source": [
    "### Drop unnecessary columns"
   ]
  },
  {
   "cell_type": "code",
   "execution_count": null,
   "metadata": {
    "collapsed": true
   },
   "outputs": [],
   "source": [
    "items.drop(['title', 'description','main_image_id', 'updated_at',\n",
    "            'main_image_id', 'user_id', 'slug', 'sku', 'fit_description',\n",
    "            'removed', 'maintenance', 'approved', 'approved_by_id',\n",
    "            'approved_at', 'year_purchased', 'listing_type', 'neighborhood',\n",
    "            'delivery_option', 'promoted', 'status', 'time_zone', 'rack',\n",
    "            'slot', 'review_count', 'review_rating', 'review_fit',\n",
    "            'admin_notes', 'purchased_fake', 'photo_status',\n",
    "            'condition', 'model', 'for_sale', 'sale_price',\n",
    "            'only_for_sale', 'oversized', 'virtual_try_url',\n",
    "            'designer_id'], axis=1, inplace=True)"
   ]
  },
  {
   "cell_type": "code",
   "execution_count": null,
   "metadata": {
    "collapsed": true
   },
   "outputs": [],
   "source": [
    "rental_items.drop(['id', 'status', 'created_at', 'updated_at', 'fit_return',\n",
    "                   'refunded', 'fit_return_reason', 'fit_return_notes'],\n",
    "                  axis=1, inplace=True)"
   ]
  },
  {
   "cell_type": "markdown",
   "metadata": {},
   "source": [
    "### Produce Orders Table"
   ]
  },
  {
   "cell_type": "code",
   "execution_count": null,
   "metadata": {
    "collapsed": true
   },
   "outputs": [],
   "source": [
    "orders = rental_items.merge(items, how='left', left_on='item_id',\n",
    "                            right_on='id').drop('id', axis=1)"
   ]
  },
  {
   "cell_type": "markdown",
   "metadata": {},
   "source": [
    "### Rental Counts"
   ]
  },
  {
   "cell_type": "code",
   "execution_count": null,
   "metadata": {
    "collapsed": true
   },
   "outputs": [],
   "source": [
    "# calculate the number of rentals per item\n",
    "\n",
    "rental_count = orders.groupby('item_id', \n",
    "                              axis=0, \n",
    "                              as_index=False).count().rename(columns={'rental_id':'rental_count'})\n",
    "\n",
    "rental_count = rental_count[['item_id', 'rental_count']]"
   ]
  },
  {
   "cell_type": "markdown",
   "metadata": {},
   "source": [
    "### Rental Counts"
   ]
  },
  {
   "cell_type": "code",
   "execution_count": null,
   "metadata": {
    "collapsed": true
   },
   "outputs": [],
   "source": [
    "# merge rental count with items\n",
    "\n",
    "items = items.merge(rental_count, how='left',\n",
    "                    left_on='id', right_on='item_id').drop('item_id', axis=1)\n",
    "\n",
    "items['rental_count'] = items['rental_count'].fillna(value=0)"
   ]
  },
  {
   "cell_type": "markdown",
   "metadata": {},
   "source": [
    "### Rental Revenue"
   ]
  },
  {
   "cell_type": "code",
   "execution_count": null,
   "metadata": {
    "collapsed": true
   },
   "outputs": [],
   "source": [
    "items['rental_revenue'] = items.apply(lambda df: df['rental_count']*df['rent_per_week'], axis=1)"
   ]
  },
  {
   "cell_type": "markdown",
   "metadata": {},
   "source": [
    "# Data Cleaning Pipeline"
   ]
  },
  {
   "cell_type": "code",
   "execution_count": null,
   "metadata": {
    "collapsed": true
   },
   "outputs": [],
   "source": [
    "# remove erroneous samples\n",
    "\n",
    "items = items.query('brand!=\"LENDER SUBMISSION FILL IN\"').copy()\n",
    "\n",
    "items = items.query('rent_per_week!=999985.0').copy()"
   ]
  },
  {
   "cell_type": "code",
   "execution_count": null,
   "metadata": {
    "collapsed": true
   },
   "outputs": [],
   "source": [
    "# items that have not been removed\n",
    "# receive curent date as removal time\n",
    "\n",
    "items['removed_at'] = items['removed_at'].fillna(value=pd.to_datetime('now'))\n",
    "\n",
    "# fix items with unrealistic rent per week values of 1000000.0\n",
    "\n",
    "f = lambda df: 0.15*df['cost'] if df['rent_per_week']==1000000.0 else df['rent_per_week']\n",
    "\n",
    "items['rent_per_week'] = items.apply(f, axis=1)"
   ]
  },
  {
   "cell_type": "code",
   "execution_count": null,
   "metadata": {
    "collapsed": true
   },
   "outputs": [],
   "source": [
    "# clean brand names\n",
    "\n",
    "items['brand'] = items['brand'].apply(lambda s: s.lower()).apply(lambda s: s.strip(' '))\\\n",
    "                               .apply(lambda s: s.replace('  ', ' '))\\\n",
    "                               .apply(lambda s: s.replace(u'\\xa0', u' '))\n",
    "\n",
    "items['brand'] = items['brand'].apply(lambda s: brands[s] if s in brands else s)"
   ]
  },
  {
   "cell_type": "markdown",
   "metadata": {},
   "source": [
    "# Store Final Data"
   ]
  },
  {
   "cell_type": "code",
   "execution_count": null,
   "metadata": {
    "collapsed": true
   },
   "outputs": [],
   "source": [
    "items.to_csv(path_or_buf='items.csv', sep=',', header=True,\n",
    "             index=True, index_label=None, mode='w',\n",
    "             line_terminator='\\n')"
   ]
  },
  {
   "cell_type": "code",
   "execution_count": null,
   "metadata": {
    "collapsed": true
   },
   "outputs": [],
   "source": [
    "orders.to_csv(path_or_buf='orders.csv', sep=',', header=True,\n",
    "             index=True, index_label=None, mode='w',\n",
    "             line_terminator='\\n')"
   ]
  }
 ],
 "metadata": {
  "kernelspec": {
   "display_name": "Python 3",
   "language": "python",
   "name": "python3"
  },
  "language_info": {
   "codemirror_mode": {
    "name": "ipython",
    "version": 3
   },
   "file_extension": ".py",
   "mimetype": "text/x-python",
   "name": "python",
   "nbconvert_exporter": "python",
   "pygments_lexer": "ipython3",
   "version": "3.6.1"
  }
 },
 "nbformat": 4,
 "nbformat_minor": 2
}
