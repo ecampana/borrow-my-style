{
 "cells": [
  {
   "cell_type": "markdown",
   "metadata": {},
   "source": [
    "# Feature Engineering\n",
    "\n",
    "**Notebook by: Emmanuel Contreras-Campana, Ph.D.**\n",
    "\n",
    "In this note, we focus on engineering new features that will advance us towards a predictive model for inventory trends."
   ]
  },
  {
   "cell_type": "markdown",
   "metadata": {},
   "source": [
    "## Load Libraries"
   ]
  },
  {
   "cell_type": "code",
   "execution_count": 2,
   "metadata": {
    "collapsed": true
   },
   "outputs": [],
   "source": [
    "# Import common python library\n",
    "from collections import OrderedDict\n",
    "\n",
    "# Import numpy library\n",
    "import numpy as np\n",
    "\n",
    "# Import matplotlib library\n",
    "import matplotlib.pyplot as plt\n",
    "\n",
    "from matplotlib.pyplot import *\n",
    "\n",
    "# Import pandas library\n",
    "import pandas as pd\n",
    "\n",
    "# Import scikit-learn library\n",
    "from sklearn.externals import joblib\n",
    "\n",
    "from sklearn.model_selection import train_test_split\n",
    "\n",
    "from sklearn.preprocessing import (StandardScaler,\n",
    "                                   LabelEncoder, \n",
    "                                   OneHotEncoder)\n",
    "\n",
    "# Import user created library\n",
    "from code import *\n",
    "\n",
    "# random seed\n",
    "seed = 42\n",
    "\n",
    "% matplotlib inline"
   ]
  },
  {
   "cell_type": "markdown",
   "metadata": {},
   "source": [
    "## Load Data\n",
    "\n",
    "First off, we load the data produced during the data cleaning pipeline."
   ]
  },
  {
   "cell_type": "code",
   "execution_count": 3,
   "metadata": {
    "collapsed": true
   },
   "outputs": [],
   "source": [
    "# load items\n",
    "items = pd.read_csv(filepath_or_buffer='data/items.csv', sep=',',\n",
    "                    header='infer', index_col=0,\n",
    "                    dtype={'id': 'int', 'cost': 'float', 'renal_price': 'float',\n",
    "                           'size': 'str', 'created_at': 'str', 'removed_at': 'str',\n",
    "                           'rental_count': 'float'},\n",
    "                    parse_dates=['created_at', 'removed_at']\n",
    "                   )\n",
    "\n",
    "# load orders\n",
    "orders = pd.read_csv(filepath_or_buffer='data/orders.csv', sep=',',\n",
    "                     header='infer', index_col=0, \n",
    "                     dtype={'item_id': 'int', 'rental_id': 'int', 'size': 'str',\n",
    "                            'item_price': 'float', 'rental_price': 'float',\n",
    "                            'created_at': 'str', 'removed_at': 'str'},\n",
    "                     parse_dates=['created_at', 'removed_at']\n",
    "                    )"
   ]
  },
  {
   "cell_type": "markdown",
   "metadata": {},
   "source": [
    "## Feature Engineering"
   ]
  },
  {
   "cell_type": "markdown",
   "metadata": {},
   "source": [
    "### Apparel Sizes\n",
    "\n",
    "Apparel sizes can be numerical, ranging from zero and upwards, but in some instances they may be categorical, for example, \"XS\", \"S\", etc.. Most sizes in the data are reported as a number and, therefore, we will choose to convert few the categorial values into numbers values. Had the converse been true we would have converted the numerical values into categorical values. Individual ranges for \"XS\", \"S\", and \"M\" may be found online. For simplicity, we did not take into account the vanity sizes of the various brands and leave this as an underlying assumption of our modeling."
   ]
  },
  {
   "cell_type": "code",
   "execution_count": 4,
   "metadata": {
    "collapsed": true
   },
   "outputs": [],
   "source": [
    "# Map categorical dress size to numeric value\n",
    "dress_sizes = {'XS': '4', 'S': '6', 'M': '8', 'One-Size': '4', '00': '0'}\n",
    "\n",
    "categorical_sizes = ['XS', 'S', 'M', 'One-Size', '00']\n",
    "\n",
    "apparel  = ['tops', 'skirts', 'pants', 'outerwear', 'rompers', \n",
    "            'shirts', 'dresses', 'bottoms']\n",
    "\n",
    "# Transform categorical items sizes into numerical values\n",
    "f = lambda s: dress_sizes[s['size']] \\\n",
    "    if s['item_type'] in apparel and s['size'] in categorical_sizes else s['size']\n",
    "\n",
    "items['size'] = items.apply(f, axis=1)"
   ]
  },
  {
   "cell_type": "markdown",
   "metadata": {},
   "source": [
    "### Missing Inventory Sizes\n",
    "\n",
    "Several samples have their item sizes missing. For these cases we will replace the missing value by the most frequent size in their respective item type, for example, the most common dress size is 4."
   ]
  },
  {
   "cell_type": "code",
   "execution_count": 5,
   "metadata": {
    "collapsed": true
   },
   "outputs": [],
   "source": [
    "# Map item type with size None to most frequent numeric value\n",
    "item_type_sizes = {'bottoms': '4', 'dresses': '4', 'shoes': '8', \n",
    "                   'skirts': '4', 'tops': '4', 'bags': 'One-Size',\n",
    "                   'outerwear': '4'}\n",
    "\n",
    "# Fill all size None with most the frequent size of their respective item type\n",
    "\n",
    "items['size'] = items['size'].astype(object).where(pd.notnull(items['size']), None)\n",
    "\n",
    "f = lambda df: item_type_sizes[df['item_type']] if df['size'] is None else df['size']\n",
    "\n",
    "items['size'] = items.apply(f, axis=1)"
   ]
  },
  {
   "cell_type": "markdown",
   "metadata": {},
   "source": [
    "### Inventory Lifetimes\n",
    "\n",
    "To track inventory trends, we will need to know the lifetime of the individual items. This is calculated by taking the difference between the date the item was removed and the date it was first listed. The result is in days and so we divide by 7 so that we may report the lifetime as number of weeks."
   ]
  },
  {
   "cell_type": "code",
   "execution_count": 6,
   "metadata": {
    "collapsed": true
   },
   "outputs": [],
   "source": [
    "# calculate lifetimes of each individual item\n",
    "# lifetime = number of weeks from date of creation to date of removal\n",
    "\n",
    "f = lambda df: int((df['removed_at'].to_pydatetime()-df['created_at']).days)/7.0\n",
    "                   \n",
    "items['lifetime'] = items.apply(f, axis=1)\n",
    "\n",
    "# set None lifetime values to 1\n",
    "items['lifetime'] = items['lifetime'].apply(lambda lt: lt if lt != 0 else 1)"
   ]
  },
  {
   "cell_type": "markdown",
   "metadata": {},
   "source": [
    "### Rentability\n",
    "\n",
    "A suitable quantity to track inventory trends is **rentability**, which we define as the **average number rentals per week** (i.e. rental frequency = rental count/lifetime). \n",
    "\n",
    "It is insufficient to just be able to predict whether an item will be rented or not since a lender will not be aware that the reason their item is predicted to be rented is because the model is implicitly assuming it will be available for at least a certain amount of time. This situation is not ideal so taking the lifetime of the inventory into account in some way will go a long way in resolving this dilemma."
   ]
  },
  {
   "cell_type": "code",
   "execution_count": 7,
   "metadata": {
    "collapsed": true
   },
   "outputs": [],
   "source": [
    "# Calculate rentability for each individual item\n",
    "\n",
    "items['rental_frequency'] = items.apply(lambda df: df['rental_count']/df['lifetime'],\n",
    "                                        axis=1)"
   ]
  },
  {
   "cell_type": "markdown",
   "metadata": {},
   "source": [
    "## Classifying Rentability\n",
    "\n",
    "We study the rentability distribution of itmes to see if items follow into seperate groups which will serve as our target value for prediction. Moving forward we will only consider apparels (i.e. \"*tops*\", \"*skirts*\", \"*pants*\", \"*outerwear*\", \"*rompers*\", \"*shirts*\", \"*dresses*\", and \"*bottoms*\") in our modeling while handbags, shoes, and accesories can be modeled independently."
   ]
  },
  {
   "cell_type": "code",
   "execution_count": 8,
   "metadata": {
    "collapsed": true
   },
   "outputs": [],
   "source": [
    "# Select apparel items for our an\n",
    "data = items[items['item_type'].isin(apparel)].copy()\n",
    "\n",
    "# Transform size string to float\n",
    "data['size'] = data['size'].apply(float)"
   ]
  },
  {
   "cell_type": "markdown",
   "metadata": {},
   "source": [
    "We plot the distribution of rentability in log vs log to zoom into features the data may have."
   ]
  },
  {
   "cell_type": "code",
   "execution_count": 9,
   "metadata": {},
   "outputs": [
    {
     "data": {
      "image/png": "[encoded data removed]",
      "text/plain": [
       "<matplotlib.figure.Figure at 0x109f22358>"
      ]
     },
     "metadata": {},
     "output_type": "display_data"
    }
   ],
   "source": [
    "# Rentability distribution\n",
    "fig, ax = plt.subplots(figsize=(8, 6))\n",
    "\n",
    "data.query('rental_frequency < 2').hist(column='rental_frequency', ax=ax, bins=100)\n",
    "\n",
    "plt.title('Rentability')\n",
    "\n",
    "plt.xlabel('Log(Average Rental Per Week)')\n",
    "plt.ylabel('Log(Count)')\n",
    "\n",
    "ax.set_yscale('log')\n",
    "ax.set_xscale('log');"
   ]
  },
  {
   "cell_type": "markdown",
   "metadata": {},
   "source": [
    "The vast majority of the rental items are under utilized and for this reason we classify them all as \"**Low**\" performing inventory. Removing these items we can explore the rest of the items to see if there are any additional structures in the rentability distribution."
   ]
  },
  {
   "cell_type": "code",
   "execution_count": 10,
   "metadata": {
    "collapsed": true,
    "scrolled": true
   },
   "outputs": [],
   "source": [
    "# Rentability of all items that have been rented at least once\n",
    "rental_freq = data.query('rental_frequency!=0')['rental_frequency']\\\n",
    "                  .sort_values(ascending=True)"
   ]
  },
  {
   "cell_type": "code",
   "execution_count": 11,
   "metadata": {},
   "outputs": [
    {
     "data": {
      "text/plain": [
       "944"
      ]
     },
     "execution_count": 11,
     "metadata": {},
     "output_type": "execute_result"
    }
   ],
   "source": [
    "# Total number of items that have been rented at least once\n",
    "len(rental_freq)"
   ]
  },
  {
   "cell_type": "markdown",
   "metadata": {},
   "source": [
    "As we see, there are 944 items that have been rented at some point. A good choice would be to classify the top 50% of the inventory with high rentability as \"**High**\" performing and the lower 50% of the inventory as \"**Moderate**\" performing. The next step is to determine what rentability threshold value will accomplish this classification. The motivation behind chosing 50% was to ensure that each rentability classification will have enough statistics for our modeling. The data is already imbalanced and chosing an 80/20 split would make it even that much more for the high rentability inventory."
   ]
  },
  {
   "cell_type": "code",
   "execution_count": 12,
   "metadata": {},
   "outputs": [
    {
     "name": "stdout",
     "output_type": "stream",
     "text": [
      "0.0340356564019449\n",
      "0.03431372549019608\n"
     ]
    }
   ],
   "source": [
    "# Half the inventory\n",
    "half = int(944/2)\n",
    "\n",
    "print(rental_freq.values[half-1])\n",
    "print(rental_freq.values[half])"
   ]
  },
  {
   "cell_type": "markdown",
   "metadata": {},
   "source": [
    "The threshold value should be between 0.03404 and 0.03431 so we wil use is **0.034175**. Samples that have a rentability of zero will be labeled by 0 (Low performing), while those with a rentability within (0, 0.034175) will be labeled by 1 (Moderately performing), and those with a rentability greater than 0.034175 will be labeled by 2 (High performing). We have now modeled the problem as a **Multi-class classification**."
   ]
  },
  {
   "cell_type": "code",
   "execution_count": 13,
   "metadata": {
    "collapsed": true
   },
   "outputs": [],
   "source": [
    "# Categorize Rentability\n",
    "\n",
    "rental_frequency_treshold = 0.034175 # (50th percentile)\n",
    "\n",
    "f = lambda df: 0 if df['rental_frequency']==0 \\\n",
    "                 else (1 if df['rental_frequency'] < rental_frequency_treshold \\\n",
    "                       else 2)\n",
    "\n",
    "data['rental_category'] = data.apply(f, axis=1)"
   ]
  },
  {
   "cell_type": "code",
   "execution_count": 14,
   "metadata": {},
   "outputs": [
    {
     "data": {
      "text/plain": [
       "rental_category\n",
       "0    5145\n",
       "1     472\n",
       "2     472\n",
       "Name: id, dtype: int64"
      ]
     },
     "execution_count": 14,
     "metadata": {},
     "output_type": "execute_result"
    }
   ],
   "source": [
    "# Validating the rental category composition\n",
    "\n",
    "data.groupby(['rental_category']).count()['id']"
   ]
  },
  {
   "cell_type": "markdown",
   "metadata": {},
   "source": [
    "This is what we would expect the majority of the inventory is low performing (i.e. 0) while the rest is equally distributed as either moderately performing (i.e. 1) or high performing (i.e. 2)."
   ]
  },
  {
   "cell_type": "markdown",
   "metadata": {},
   "source": [
    "# One-Hot Encoding Categorical Features"
   ]
  },
  {
   "cell_type": "markdown",
   "metadata": {},
   "source": [
    "The last transformation we preform is One-Hot-Encoding of categorical features into numerical values in order for machine learning algorithms to be able to utilize them. The categorical features in our analysis are \"item type\", \"brand\", \"size\", and \"rental price\"."
   ]
  },
  {
   "cell_type": "code",
   "execution_count": 15,
   "metadata": {
    "collapsed": true
   },
   "outputs": [],
   "source": [
    "X_raw = data[['item_type', 'brand', 'size', 'rental_price']]\n",
    "X_ohe = pd.get_dummies(X_raw[['brand', 'item_type']], prefix=['brand', 'item_type'])"
   ]
  },
  {
   "cell_type": "markdown",
   "metadata": {},
   "source": [
    "The final data is therefore stored in X, and y."
   ]
  },
  {
   "cell_type": "code",
   "execution_count": 16,
   "metadata": {
    "collapsed": true
   },
   "outputs": [],
   "source": [
    "X = X_raw[['size', 'rental_price']].join(X_ohe)\n",
    "y = data['rental_category']"
   ]
  },
  {
   "cell_type": "code",
   "execution_count": 16,
   "metadata": {
    "collapsed": true
   },
   "outputs": [],
   "source": [
    "X.to_csv(path_or_buf='data/X.csv', sep=',', header=True,\n",
    "         index=True, index_label=None, mode='w',\n",
    "         line_terminator='\\n')\n",
    "\n",
    "y.to_csv(path='data/y.csv', sep=',', header=True,\n",
    "         index=True, index_label=None, mode='w')"
   ]
  }
 ],
 "metadata": {
  "kernelspec": {
   "display_name": "Python 3",
   "language": "python",
   "name": "python3"
  },
  "language_info": {
   "codemirror_mode": {
    "name": "ipython",
    "version": 3
   },
   "file_extension": ".py",
   "mimetype": "text/x-python",
   "name": "python",
   "nbconvert_exporter": "python",
   "pygments_lexer": "ipython3",
   "version": "3.6.1"
  }
 },
 "nbformat": 4,
 "nbformat_minor": 2
}
